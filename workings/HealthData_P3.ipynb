{
 "cells": [
  {
   "cell_type": "markdown",
   "metadata": {},
   "source": [
    "###  Point to remember\n",
    "    1. . has litral meaning inside bracket [.] and beside squre bracet we should use escape chracter/\n",
    "    2. html tags closes with /\n",
    "    3. ^ means start of a string and [^1234] means we should ignore chracter of a bracket\n",
    "    4. backrefrence are used to reuse the captured group \n",
    "    "
   ]
  },
  {
   "cell_type": "code",
   "execution_count": 52,
   "metadata": {},
   "outputs": [],
   "source": [
    "import os\n",
    "import re\n",
    "import datetime\n",
    "import time"
   ]
  },
  {
   "cell_type": "markdown",
   "metadata": {},
   "source": [
    "### Loading the Data"
   ]
  },
  {
   "cell_type": "code",
   "execution_count": 2,
   "metadata": {},
   "outputs": [
    {
     "name": "stdout",
     "output_type": "stream",
     "text": [
      "C:\\Users\\PankajBhatt\\Desktop\\Applied AI\\PatternMatching\\workings\n",
      "['.ipynb_checkpoints', 'HealthData_P3.ipynb', 'IOTSensorData_P2.ipynb', 'RegexExercise.ipynb', 'Regex_Operation.ipynb', 'RegularExpressionNotes.ipynb', 'RoboCopyLog_P1`.ipynb']\n",
      "None\n",
      "['labresults.html', 'problems.html']\n"
     ]
    }
   ],
   "source": [
    "print(os.getcwd())\n",
    "print(os.listdir())\n",
    "print(os.chdir(r\"C:\\Users\\PankajBhatt\\Desktop\\Applied AI\\PatternMatching\\DataSet\\HealthData\"))\n",
    "print(os.listdir())\n",
    "\n",
    "labResult = os.path.abspath(r'C:\\Users\\PankajBhatt\\Desktop\\Applied AI\\PatternMatching\\DataSet\\HealthData\\labresults.html')\n",
    "problems  = os.path.abspath(r'C:\\Users\\PankajBhatt\\Desktop\\Applied AI\\PatternMatching\\DataSet\\HealthData\\problems.html')"
   ]
  },
  {
   "cell_type": "markdown",
   "metadata": {},
   "source": [
    "### Step 1\n",
    "```\n",
    "Exercise 1- Cleanup pattern\n",
    "Write a pattern to cleanup and prepare the HTML documents for CSV Conversion.  Here are two sample texts provided.\n",
    "\n",
    "If you notice the below text, we need to extract values inside \"tr\", \"td\", \"th\" elements.  However, HTML is very forgiving and flexible standard and allows liberal use of white spaces and newlines.\n",
    "\n",
    "To simplify parsing work, we want to first convert the incoming HTML document and replace one or more lines, tabs, and spaces with a single space.\n",
    "\n",
    "The pattern you write should match: spaces, new line character tabs, and HTML code for space (view labresults.html in a text editor to see the use of html code).\n",
    "\n",
    "When you replace the matching text with a single space, the net effect is HTML content is converted to a single line text with single space replacing all newlines, tabs, multiple spaces and html code  \n",
    "\n",
    "<tr ID=\"problem59\" styleCode=\"normRow\">\n",
    "                <td ID=\"problem59name\">At high risk for heart block</td>\n",
    "                <td>02/10/2015</td>\n",
    "                <td>06/15/2015</td>\n",
    "</tr>\n",
    "<tr><th align=\"left\">Hemoccult </th><td></td><td> </td><td>negative</td><td> </td><td> </td></tr> \n",
    "\n",
    "\n",
    "```"
   ]
  },
  {
   "cell_type": "code",
   "execution_count": 3,
   "metadata": {},
   "outputs": [
    {
     "name": "stdout",
     "output_type": "stream",
     "text": [
      "<html>\n",
      "<body>\n",
      "    <table>\n",
      "        <colgroup>\n",
      "            <col width=\"75%\" />\n",
      "            <col width=\"12%\" />\n",
      "            <col width=\"13%\" />\n",
      "        </colgroup>\n",
      "        <thead><tr><th>Problem</th><th>Noted Date</th><th>Resolved Date</th></tr></thead>\n",
      "        <tbody>\n",
      "            <tr ID=\"problem59\" styleCode=\"normRow\">\n",
      "                <td ID=\"problem59name\">At high risk for heart block</td>\n",
      "                <td>02/10/2015</td>\n",
      "                <td>06/15/2015</td>\n",
      "            </tr>\n",
      "            <tr ID=\"problem58\" styleCode=\"altRow\">\n",
      "                <td ID=\"problem58name\">MVA (motor vehicle accident)</td>\n",
      "                <td>01/05/2014</td>\n",
      "                <td>05/08/2014</td>\n",
      "            </tr>\n",
      "            <tr ID=\"problem57\" styleCode=\"normRow\">\n",
      "                <td ID=\"problem57name\">HTN (hypertension)</td>\n",
      "                <td>09/17/2014</td>\n",
      "                <td>09/05/2015</td>\n",
      "            </tr>\n",
      "            <tr ID=\"problem56\" styleCode=\"altRow\">\n",
      "                <td ID=\"problem56name\">Gross hematuria</td>\n",
      "                <td>01/11/2014</td>\n",
      "                <td>07/15/2015</td>\n",
      "            </tr>\n",
      "            <tr ID=\"problem54\" styleCode=\"normRow\">\n",
      "                <td ID=\"problem54name\">Normal newborn (single liveborn)</td>\n",
      "                <td>09/08/2014</td>\n",
      "                <td>08/12/2015</td>\n",
      "            </tr>\n",
      "            <tr ID=\"problem55\" styleCode=\"altRow\">\n",
      "                <td ID=\"problem55name\">Bronchiolitis</td>\n",
      "                <td>02/14/2014</td>\n",
      "                <td>08/12/2015</td>\n",
      "            </tr>\n",
      "            <tr ID=\"problem53\" styleCode=\"normRow\">\n",
      "                <td ID=\"problem53name\">Skin cancer</td>\n",
      "                <td>04/12/2014</td>\n",
      "                <td>08/12/2015</td>\n",
      "            </tr>\n",
      "            <tr ID=\"problem52\" styleCode=\"altRow\">\n",
      "                <td ID=\"problem52name\">Sepsis due to urinary tract infection</td>\n",
      "                <td>02/11/2012</td>\n",
      "                <td>03/27/2015</td>\n",
      "            </tr>\n",
      "            <tr ID=\"problem51\" styleCode=\"normRow\">\n",
      "                <td ID=\"problem51name\">CAD (coronary artery disease) of bypass graft</td>\n",
      "                <td />\n",
      "                <td>06/05/2015</td>\n",
      "            </tr>\n",
      "        </tbody>\n",
      "    </table>\n",
      "</body>\n",
      "</html>\n"
     ]
    }
   ],
   "source": [
    "with open(problems) as rdr:\n",
    "    print(rdr.read())"
   ]
  },
  {
   "cell_type": "code",
   "execution_count": 54,
   "metadata": {},
   "outputs": [
    {
     "name": "stdout",
     "output_type": "stream",
     "text": [
      "<re.Match object; span=(6, 7), match='\\n'>\n",
      "<re.Match object; span=(6, 7), match='\\n'>\n",
      "<re.Match object; span=(0, 4), match='    '>\n",
      "<re.Match object; span=(11, 12), match='\\n'>\n"
     ]
    }
   ],
   "source": [
    "pattern = r'(?i)\\s+'\n",
    "\n",
    "count = 0  # to check the line wise output\n",
    "with open(problems,'r', encoding='utf-8') as rdr:\n",
    "    for line in rdr:\n",
    "        matches = re.finditer(pattern, line)\n",
    "        for match in matches:\n",
    "            print(match)\n",
    "        count +=1\n",
    "        if count == 3: # give how many lines you want to iterate from a file\n",
    "            break\n",
    "    "
   ]
  },
  {
   "cell_type": "code",
   "execution_count": 5,
   "metadata": {},
   "outputs": [
    {
     "name": "stdout",
     "output_type": "stream",
     "text": [
      "<html> <body> <table> <colgroup> <col width=\"75%\" /> <col width=\"12%\" /> <col width=\"13%\" /> </colgroup> <thead><tr><th>Problem</th><th>Noted Date</th><th>Resolved Date</th></tr></thead> <tbody> <tr ID=\"problem59\" styleCode=\"normRow\"> <td ID=\"problem59name\">At high risk for heart block</td> <td>02/10/2015</td> <td>06/15/2015</td> </tr> <tr ID=\"problem58\" styleCode=\"altRow\"> <td ID=\"problem58name\">MVA (motor vehicle accident)</td> <td>01/05/2014</td> <td>05/08/2014</td> </tr> <tr ID=\"problem57\" styleCode=\"normRow\"> <td ID=\"problem57name\">HTN (hypertension)</td> <td>09/17/2014</td> <td>09/05/2015</td> </tr> <tr ID=\"problem56\" styleCode=\"altRow\"> <td ID=\"problem56name\">Gross hematuria</td> <td>01/11/2014</td> <td>07/15/2015</td> </tr> <tr ID=\"problem54\" styleCode=\"normRow\"> <td ID=\"problem54name\">Normal newborn (single liveborn)</td> <td>09/08/2014</td> <td>08/12/2015</td> </tr> <tr ID=\"problem55\" styleCode=\"altRow\"> <td ID=\"problem55name\">Bronchiolitis</td> <td>02/14/2014</td> <td>08/12/2015</td> </tr> <tr ID=\"problem53\" styleCode=\"normRow\"> <td ID=\"problem53name\">Skin cancer</td> <td>04/12/2014</td> <td>08/12/2015</td> </tr> <tr ID=\"problem52\" styleCode=\"altRow\"> <td ID=\"problem52name\">Sepsis due to urinary tract infection</td> <td>02/11/2012</td> <td>03/27/2015</td> </tr> <tr ID=\"problem51\" styleCode=\"normRow\"> <td ID=\"problem51name\">CAD (coronary artery disease) of bypass graft</td> <td /> <td>06/05/2015</td> </tr> </tbody> </table> </body> </html>\n"
     ]
    }
   ],
   "source": [
    "findpattern = r'(?i)\\s+'\n",
    "replace=' '\n",
    "with open(problems) as rdr:\n",
    "    newfile = re.sub(findpattern, replace, rdr.read())\n",
    "    print(newfile)\n"
   ]
  },
  {
   "cell_type": "markdown",
   "metadata": {},
   "source": [
    "### Step 2 \n",
    "```\n",
    "Exercise 2 - Write a pattern to capture a row\n",
    "Write a pattern to match and extract contents of a row.\n",
    "\n",
    "A Row in a html is specified using \"tr\" element.  <tr>....row content...</tr>\n",
    "\n",
    "Row can also be empty.  <tr/>\n",
    "\n",
    "Row can also contain additional attributes.  <tr align=right>....row content </tr>\n",
    "\n",
    "Write a pattern that can match empty row or row content.  If row content is available, it should be captured in a named group \"arow\"\n",
    "\n",
    "For example, when given a text:\n",
    "\n",
    "<tr><th align=\"right\">Test</th><th>Jun 22, 2014</th><th>Jul 19, 2012</th><th>Aug 13, 2011</th><th>Sep 07, 2010</th></tr> \n",
    "\n",
    "It should match the above text and return a named group with the following text\n",
    "\n",
    "arow:<th align=\"right\">Test</th><th>Jun 22, 2014</th><th>Jul 19, 2012</th><th>Aug 13, 2011</th><th>Sep 07, 2010</th>\n",
    "```"
   ]
  },
  {
   "cell_type": "code",
   "execution_count": 6,
   "metadata": {},
   "outputs": [
    {
     "name": "stdout",
     "output_type": "stream",
     "text": [
      "\n",
      "\n",
      "\n",
      "\n",
      "<th>Problem</th><th>Noted Date</th><th>Resolved Date</th>\n",
      "\n",
      "\n",
      "\n",
      "\n",
      " <td ID=\"problem59name\">At high risk for heart block</td> <td>02/10/2015</td> <td>06/15/2015</td> \n",
      "\n",
      "\n",
      "\n",
      "\n",
      " <td ID=\"problem58name\">MVA (motor vehicle accident)</td> <td>01/05/2014</td> <td>05/08/2014</td> \n",
      "\n",
      "\n",
      "\n",
      "\n",
      " <td ID=\"problem57name\">HTN (hypertension)</td> <td>09/17/2014</td> <td>09/05/2015</td> \n",
      "\n",
      "\n",
      "\n",
      "\n",
      " <td ID=\"problem56name\">Gross hematuria</td> <td>01/11/2014</td> <td>07/15/2015</td> \n",
      "\n",
      "\n",
      "\n",
      "\n",
      " <td ID=\"problem54name\">Normal newborn (single liveborn)</td> <td>09/08/2014</td> <td>08/12/2015</td> \n",
      "\n",
      "\n",
      "\n",
      "\n",
      " <td ID=\"problem55name\">Bronchiolitis</td> <td>02/14/2014</td> <td>08/12/2015</td> \n",
      "\n",
      "\n",
      "\n",
      "\n",
      " <td ID=\"problem53name\">Skin cancer</td> <td>04/12/2014</td> <td>08/12/2015</td> \n",
      "\n",
      "\n",
      "\n",
      "\n",
      " <td ID=\"problem52name\">Sepsis due to urinary tract infection</td> <td>02/11/2012</td> <td>03/27/2015</td> \n",
      "\n",
      "\n",
      "\n",
      "\n",
      " <td ID=\"problem51name\">CAD (coronary artery disease) of bypass graft</td> <td /> <td>06/05/2015</td> \n"
     ]
    }
   ],
   "source": [
    "row_pattern = r'(?i)(?:<tr\\s*/>)|(?:<tr\\b[^>]*>)(?P<arow>.+?)</tr>'\n",
    "#cell_pattern = r'(?i)(?)'\n",
    "matches = re.finditer(row_pattern, newfile)\n",
    "for match in matches:\n",
    "   # print(match.group(0))\n",
    "    print(\"\\n\\n\\n\")\n",
    "    print(match.group('arow'))\n"
   ]
  },
  {
   "cell_type": "code",
   "execution_count": 39,
   "metadata": {},
   "outputs": [],
   "source": [
    "problem= open(problems,'r', encoding= 'utf-8').read()\n",
    "problem= re.sub(r'\\s+',' ',problem)\n",
    "pattern = r'(?i)(?:<tr\\s*/>)|(?:<tr\\b[^>]*>)(?P<arow>.+?)</tr>'\n",
    "rows = []\n",
    "matches = re.finditer(pattern, problem)\n",
    "for match in matches:\n",
    "    rows.append(match.group('arow'))"
   ]
  },
  {
   "cell_type": "code",
   "execution_count": 40,
   "metadata": {},
   "outputs": [
    {
     "data": {
      "text/plain": [
       "['<th>Problem</th><th>Noted Date</th><th>Resolved Date</th>',\n",
       " ' <td ID=\"problem59name\">At high risk for heart block</td> <td>02/10/2015</td> <td>06/15/2015</td> ',\n",
       " ' <td ID=\"problem58name\">MVA (motor vehicle accident)</td> <td>01/05/2014</td> <td>05/08/2014</td> ',\n",
       " ' <td ID=\"problem57name\">HTN (hypertension)</td> <td>09/17/2014</td> <td>09/05/2015</td> ',\n",
       " ' <td ID=\"problem56name\">Gross hematuria</td> <td>01/11/2014</td> <td>07/15/2015</td> ',\n",
       " ' <td ID=\"problem54name\">Normal newborn (single liveborn)</td> <td>09/08/2014</td> <td>08/12/2015</td> ',\n",
       " ' <td ID=\"problem55name\">Bronchiolitis</td> <td>02/14/2014</td> <td>08/12/2015</td> ',\n",
       " ' <td ID=\"problem53name\">Skin cancer</td> <td>04/12/2014</td> <td>08/12/2015</td> ',\n",
       " ' <td ID=\"problem52name\">Sepsis due to urinary tract infection</td> <td>02/11/2012</td> <td>03/27/2015</td> ',\n",
       " ' <td ID=\"problem51name\">CAD (coronary artery disease) of bypass graft</td> <td /> <td>06/05/2015</td> ']"
      ]
     },
     "execution_count": 40,
     "metadata": {},
     "output_type": "execute_result"
    }
   ],
   "source": [
    "rows"
   ]
  },
  {
   "cell_type": "markdown",
   "metadata": {},
   "source": [
    "## Step 3\n",
    "```\n",
    "Exercise 3 - Write a pattern to capture a cell\n",
    "A Cell in a html is identified using \"td\" or \"th\" element.  <td>....cell content...</td> <th>....cell content...</th>\n",
    "\n",
    "Cell can also be empty.  <td/> <th />\n",
    "\n",
    "Cell can also contain additional attributes.  <th align=right>....cell content...</th> <td align=right>....cell content...</td>\n",
    "\n",
    "Write a pattern that can match empty cell or cell content.  If cell content is available, it should be captured in a named group \"col\"\n",
    "\n",
    "For example, when given a text:\n",
    "\n",
    "<th align=\"left\">Cholesterol (mg/dL)</th><td>135</td>   \n",
    "\n",
    "First match should be: <th align=\"left\">Cholesterol (mg/dL)</th> with named group\n",
    "\n",
    "col:Cholesterol (mg/dL)\n",
    "\n",
    "Second match should be: <td>135</td> with named group\n",
    "\n",
    "col:135\n",
    "```"
   ]
  },
  {
   "cell_type": "code",
   "execution_count": 50,
   "metadata": {},
   "outputs": [
    {
     "name": "stdout",
     "output_type": "stream",
     "text": [
      "Problem\n",
      "Noted Date\n",
      "Resolved Date\n",
      "At high risk for heart block\n",
      "02/10/2015\n",
      "06/15/2015\n",
      "MVA (motor vehicle accident)\n",
      "01/05/2014\n",
      "05/08/2014\n",
      "HTN (hypertension)\n",
      "09/17/2014\n",
      "09/05/2015\n",
      "Gross hematuria\n",
      "01/11/2014\n",
      "07/15/2015\n",
      "Normal newborn (single liveborn)\n",
      "09/08/2014\n",
      "08/12/2015\n",
      "Bronchiolitis\n",
      "02/14/2014\n",
      "08/12/2015\n",
      "Skin cancer\n",
      "04/12/2014\n",
      "08/12/2015\n",
      "Sepsis due to urinary tract infection\n",
      "02/11/2012\n",
      "03/27/2015\n",
      "CAD (coronary artery disease) of bypass graft\n",
      "None\n",
      "06/05/2015\n"
     ]
    }
   ],
   "source": [
    "cellPattern = r'(?i)(?:<(td|th)\\s*/>)|(?:<(?P<element>td|th)\\b[^>]*>)(?P<col>.+?)</(?P=element)>'\n",
    "for row in rows:\n",
    "    matches = re.finditer(cellPattern, row)\n",
    "    \n",
    "    for match in matches:\n",
    "        print(match.group('col'))\n",
    "    "
   ]
  },
  {
   "cell_type": "markdown",
   "metadata": {},
   "source": [
    "# Project"
   ]
  },
  {
   "cell_type": "code",
   "execution_count": 59,
   "metadata": {},
   "outputs": [],
   "source": [
    "def process_healthcare_data(file_name):    \n",
    "    start_time = time.time()    \n",
    "   \n",
    "    PATTERN_ROW = r'(?:<tr\\s*/>)|(?:<tr\\b[^>]*>(?P<arow>.+?)</tr>)'    \n",
    "    PATTERN_CELL = r'(?:<(?:th|td)\\s*/>)|(?:<(?P<element>th|td)\\b[^>]*>(?P<col>.+?)</(?P=element)>)'\n",
    "    PATTERN_CLEANUP = r'\\s+|&#160;'\n",
    "    \n",
    "    html_content = open(file_name,'r', encoding='utf-8').read()\n",
    "    \n",
    "    # Cleanup: Replaces all extra spaces, new lines, tabs etc with a single space.    \n",
    "    html_content = re.sub(PATTERN_CLEANUP,' ', html_content)    \n",
    "    \n",
    "    with open(file_name + '.csv','w', encoding='utf-8') as wr:\n",
    "        \n",
    "        # Process each row in the table\n",
    "        row_iter = re.finditer(PATTERN_ROW, html_content)\n",
    "        \n",
    "        for row_match in row_iter:\n",
    "            # Skip empty rows. Process only if group arow matched.        \n",
    "            if row_match.group('arow'):\n",
    "                rowData = []\n",
    "                \n",
    "                # For each cell in a row\n",
    "                col_iter = re.finditer(PATTERN_CELL,row_match.group('arow'))\n",
    "                \n",
    "                for col_match in col_iter:                    \n",
    "                    # check for empty columns\n",
    "                    if col_match.group('col'):\n",
    "                        rowData.append(col_match.group('col').replace(',',''))\n",
    "                    else:\n",
    "                        rowData.append('')\n",
    "                        \n",
    "                wr.write(','.join(rowData))\n",
    "                wr.write('\\n')\n",
    "                \n",
    "    print ('Elapsed Time : {0:.2f}s', time.time()-start_time)"
   ]
  },
  {
   "cell_type": "code",
   "execution_count": 60,
   "metadata": {},
   "outputs": [
    {
     "name": "stdout",
     "output_type": "stream",
     "text": [
      "***** C:\\Users\\PankajBhatt\\Desktop\\Applied AI\\PatternMatching\\DataSet\\HealthData\\labresults.html\n",
      "Elapsed Time : {0:.2f}s 0.01964282989501953\n",
      "***** C:\\Users\\PankajBhatt\\Desktop\\Applied AI\\PatternMatching\\DataSet\\HealthData\\problems.html\n",
      "Elapsed Time : {0:.2f}s 0.01545858383178711\n"
     ]
    }
   ],
   "source": [
    "labResult = os.path.abspath(r'C:\\Users\\PankajBhatt\\Desktop\\Applied AI\\PatternMatching\\DataSet\\HealthData\\labresults.html')\n",
    "problems  = os.path.abspath(r'C:\\Users\\PankajBhatt\\Desktop\\Applied AI\\PatternMatching\\DataSet\\HealthData\\problems.html')\n",
    "\n",
    "files = [labResult,problems]\n",
    "for file in files:\n",
    "    print('*****', file)\n",
    "    process_healthcare_data(file)"
   ]
  },
  {
   "cell_type": "code",
   "execution_count": null,
   "metadata": {},
   "outputs": [],
   "source": []
  }
 ],
 "metadata": {
  "kernelspec": {
   "display_name": "Python 3",
   "language": "python",
   "name": "python3"
  },
  "language_info": {
   "codemirror_mode": {
    "name": "ipython",
    "version": 3
   },
   "file_extension": ".py",
   "mimetype": "text/x-python",
   "name": "python",
   "nbconvert_exporter": "python",
   "pygments_lexer": "ipython3",
   "version": "3.7.6"
  }
 },
 "nbformat": 4,
 "nbformat_minor": 4
}
