{
 "cells": [
  {
   "cell_type": "markdown",
   "metadata": {},
   "source": [
    "# Point to remember \n",
    "1. With in square bracket . has litral meaning else where use esacape charater with it"
   ]
  },
  {
   "cell_type": "code",
   "execution_count": 80,
   "metadata": {},
   "outputs": [],
   "source": [
    "import re\n",
    "import os"
   ]
  },
  {
   "cell_type": "markdown",
   "metadata": {},
   "source": [
    "__Question 1__ \n",
    "```\n",
    "In this exercise, you need to look for a currency symbol followed by digits and wrap them in ***.\n",
    "\n",
    "input:\n",
    "\n",
    "movie ticket: $15, popcorn: $8\n",
    "movie ticket: €15, popcorn: €8\n",
    "movie ticket:₹15, popcorn: ₹8\n",
    "output:\n",
    "\n",
    "movie ticket: ***$15***, popcorn: ***$8***\n",
    "movie ticket: ***€15***, popcorn: ***€8***\n",
    "movie ticket: ***₹15***, popcorn: ***₹8***\n",
    "```"
   ]
  },
  {
   "cell_type": "code",
   "execution_count": 2,
   "metadata": {},
   "outputs": [
    {
     "ename": "NameError",
     "evalue": "name 'inputTextinputText' is not defined",
     "output_type": "error",
     "traceback": [
      "\u001b[1;31m---------------------------------------------------------------------------\u001b[0m",
      "\u001b[1;31mNameError\u001b[0m                                 Traceback (most recent call last)",
      "\u001b[1;32m<ipython-input-2-eb72f1cd304b>\u001b[0m in \u001b[0;36m<module>\u001b[1;34m\u001b[0m\n\u001b[0;32m      5\u001b[0m \u001b[0mreplacePattern\u001b[0m \u001b[1;33m=\u001b[0m \u001b[1;34m'***\\g<price>***'\u001b[0m\u001b[1;33m\u001b[0m\u001b[1;33m\u001b[0m\u001b[0m\n\u001b[0;32m      6\u001b[0m \u001b[1;33m\u001b[0m\u001b[0m\n\u001b[1;32m----> 7\u001b[1;33m \u001b[0mnew_text\u001b[0m \u001b[1;33m=\u001b[0m \u001b[0mre\u001b[0m\u001b[1;33m.\u001b[0m\u001b[0msub\u001b[0m\u001b[1;33m(\u001b[0m\u001b[0mfind_pattern\u001b[0m\u001b[1;33m,\u001b[0m \u001b[0mreplacePattern\u001b[0m\u001b[1;33m,\u001b[0m\u001b[0minputTextinputText\u001b[0m\u001b[1;33m)\u001b[0m\u001b[1;33m\u001b[0m\u001b[1;33m\u001b[0m\u001b[0m\n\u001b[0m\u001b[0;32m      8\u001b[0m \u001b[0mprint\u001b[0m\u001b[1;33m(\u001b[0m\u001b[0mnew_text\u001b[0m\u001b[1;33m)\u001b[0m\u001b[1;33m\u001b[0m\u001b[1;33m\u001b[0m\u001b[0m\n\u001b[0;32m      9\u001b[0m \u001b[1;33m\u001b[0m\u001b[0m\n",
      "\u001b[1;31mNameError\u001b[0m: name 'inputTextinputText' is not defined"
     ]
    }
   ],
   "source": [
    "inputText =\"\"\"movie ticket: $15, popcorn: $8\n",
    "movie ticket: €15, popcorn: €8\n",
    "movie ticket:₹15, popcorn: ₹8\"\"\"\n",
    "find_pattern = r'(?m)(?P<price>.\\d+)'\n",
    "replacePattern = '***\\g<price>***'\n",
    "   \n",
    "new_text = re.sub(find_pattern, replacePattern,inputTextinputText)\n",
    "print(new_text)\n",
    "\n",
    "\n"
   ]
  },
  {
   "cell_type": "markdown",
   "metadata": {},
   "source": []
  },
  {
   "cell_type": "markdown",
   "metadata": {},
   "source": [
    "__Quetion 2__  \n",
    "```\n",
    "This exercise consists of three parts\n",
    "\n",
    "1. Write a pattern to match one or more digits. In the below text, the pattern should match 1, 123, 12345. However, it should not match ABCD123\n",
    "\n",
    "1\n",
    "123\n",
    "ABCD123\n",
    "12345\n",
    "2. Extend the previous pattern to now match an optional decimal point and two digits. For example, the pattern should match 1234.56 and 57890 but not match 1234A56\n",
    "\n",
    "1234.56\n",
    "57890\n",
    "1234A56\n",
    "3. Extend the pattern from the previous question to now match an optional comma followed by three digits. This optional comma and the 3-digit group can appear as many times as possible.\n",
    "\n",
    "The pattern should now match:\n",
    "\n",
    "123\n",
    "12345.78\n",
    "1,234.78\n",
    "1,234,567.89\n",
    "0.59\n",
    "```"
   ]
  },
  {
   "cell_type": "code",
   "execution_count": null,
   "metadata": {},
   "outputs": [],
   "source": [
    "inputText = \"\"\"1\n",
    "123\n",
    "ABCD123\n",
    "12345\"\"\"\n",
    "\n",
    "\n",
    "findPattern = r'(?m)(?P<num>\\b\\d+\\b)'\n",
    "matchs = re.finditer(findPattern, inputText)\n",
    "for match in matchs:\n",
    "    print(match.group(0), \"is present at location\" , match.start())"
   ]
  },
  {
   "cell_type": "code",
   "execution_count": null,
   "metadata": {},
   "outputs": [],
   "source": [
    "inputText = \"\"\"1\n",
    "123\n",
    "ABCD123\n",
    "12345\n",
    "1234.56\n",
    "57890\n",
    "1234A56\"\"\"\n",
    "\n",
    "\n",
    "findPattern =r'(?m)\\b\\d+(\\.\\d{2})?\\b'\n",
    "# r'(?m)(?P<num>\\b\\d+[.]?\\d*$)'\n",
    "matchs = re.finditer(findPattern, inputText)\n",
    "for match in matchs:\n",
    "    print(match.group(0), \"is present at location\" , match.start())"
   ]
  },
  {
   "cell_type": "markdown",
   "metadata": {},
   "source": [
    "__Details__\n",
    "```\n",
    ">  r'(?m)(?P<num>\\b\\d+[.]?\\d*$)'\n",
    "- this is greedy \n",
    "- we can make it lazy also \n",
    ">pattern = r'(?m)(?P<num>\\b\\d+[.]?\\d*?$)'\n",
    "```"
   ]
  },
  {
   "cell_type": "code",
   "execution_count": null,
   "metadata": {},
   "outputs": [],
   "source": [
    "inputText = \"\"\"\n",
    "123\n",
    "12345.78\n",
    "1,234.78\n",
    "1,234,567.89\n",
    "0.59\"\"\"\n",
    "\n",
    "\n",
    "findPattern = r'(?m)\\b\\d+([,]\\d{3})*[.]?\\d*$'\n",
    "matchs = re.finditer(findPattern, inputText)\n",
    "for match in matchs:\n",
    "    print(match.group(0), \"is present at location\" , match.start())"
   ]
  },
  {
   "cell_type": "markdown",
   "metadata": {},
   "source": [
    "__Question 3__\n",
    "```\n",
    "Exercise - List all cars not made by Honda\n",
    "\n",
    "Write a pattern to match all non-Honda cars (case insensitive)\n",
    "\n",
    "Input:\n",
    "Honda Civic\n",
    "Honda Accord\n",
    "Honda Insight\n",
    "Hyundai Accent\n",
    "Toyota Corolla\n",
    "Toyota Camry\n",
    "Toyota Prius\n",
    "Tesla Model 3\n",
    "Tesla Model S\n",
    "Tesla Model X\n",
    "Expected Output:\n",
    "Hyundai Accent\n",
    "Toyota Corolla\n",
    "Toyota Camry\n",
    "Toyota Prius\n",
    "Tesla Model 3\n",
    "Tesla Model S\n",
    "Tesla Model X```"
   ]
  },
  {
   "cell_type": "code",
   "execution_count": null,
   "metadata": {},
   "outputs": [],
   "source": [
    "inputText = \"\"\"Honda Civic\n",
    "Honda Accord\n",
    "Honda Insight\n",
    "Hyundai Accent\n",
    "Toyota Corolla\n",
    "Toyota Camry\n",
    "Toyota Prius\n",
    "Tesla Model 3\n",
    "Tesla Model S\n",
    "Tesla Model X\n",
    "Expected Output:\n",
    "Hyundai Accent\n",
    "Toyota Corolla\n",
    "Toyota Camry\n",
    "Toyota Prius\n",
    "Tesla Model 3\n",
    "Tesla Model S\n",
    "Tesla Model X\"\"\"\n",
    "\n",
    "\n",
    "findPattern = r'(?im)(?!honda).+'\n",
    "matchs = re.finditer(findPattern, inputText)\n",
    "for match in matchs:\n",
    "    print(match.group(0), \"is present at location\" , match.start())"
   ]
  },
  {
   "cell_type": "markdown",
   "metadata": {},
   "source": [
    "**Question 4**  \n",
    "```\n",
    "Write a pattern to capture the values in a log entry using named groups. Each entry consists of the IP address of the requester, the HTTP method, resource, number of bytes, and request duration\n",
    "\n",
    "Use the following group names: ip, http, resource, bytes, duration\n",
    "\n",
    "Sample Input:\n",
    "192.168.0.20 GET /index.html 32504 1.030\n",
    "192.168.0.55 GET /index.html 32504 0.500\n",
    "Expected Output (first match shown below):\n",
    "ip:192.168.0.20\n",
    "http:GET\n",
    "resource:/index.html\n",
    "byteas:32504\n",
    "duration:1.030 \n",
    "```"
   ]
  },
  {
   "cell_type": "code",
   "execution_count": 41,
   "metadata": {},
   "outputs": [
    {
     "name": "stdout",
     "output_type": "stream",
     "text": [
      "ip : 192.168.0.20\n",
      "http: GET\n",
      "resource: /index.html\n",
      "bytes: 32504\n",
      "duration: 1.030\n",
      "ip : 192.168.0.55\n",
      "http: GET\n",
      "resource: /index.html\n",
      "bytes: 32504\n",
      "duration: 0.500\n"
     ]
    }
   ],
   "source": [
    "inputText= \"\"\"192.168.0.20 GET /index.html 32504 1.030\n",
    "192.168.0.55 GET /index.html 32504 0.500\"\"\"\n",
    "\n",
    "\n",
    "findPattern = r'(?m)(?P<ip>\\d{3}\\.\\d{3}\\.\\d{1,3}\\.\\d{1,3})\\s(?P<http>\\b\\w+)\\s(?P<resource>\\S+)\\s(?P<bytes>\\d+)\\s(?P<duration>\\d+\\.\\d+)'\n",
    "matchs = re.finditer(findPattern, inputText)\n",
    "for match in matchs:\n",
    "    print(\"ip :\",match.group('ip'))\n",
    "    print(\"http:\",match.group('http'))\n",
    "    print(\"resource:\",match.group('resource'))\n",
    "    print(\"bytes:\",match.group('bytes'))\n",
    "    print(\"duration:\",match.group('duration'))"
   ]
  },
  {
   "cell_type": "markdown",
   "metadata": {},
   "source": [
    "__Question 5__  \n",
    "```\n",
    "Write a pattern to match items whose price do not end with .99\n",
    "\n",
    "Sample Input:\n",
    "chair 4.98\n",
    "coffee 1.99\n",
    "fan 10.97\n",
    "car 11499.59\n",
    "banana 0.09\n",
    "\n",
    "Expected Output:\n",
    "chair 4.98\n",
    "fan 10.97\n",
    "car 11499.59\n",
    "banana 0.0\n",
    "```"
   ]
  },
  {
   "cell_type": "code",
   "execution_count": 60,
   "metadata": {},
   "outputs": [
    {
     "name": "stdout",
     "output_type": "stream",
     "text": [
      "chair 4.98 is present at location 0\n",
      "fan 10.97 is present at location 23\n",
      "car 11499.59 is present at location 33\n",
      "banana 0.09 is present at location 46\n"
     ]
    }
   ],
   "source": [
    "inputText = \"\"\"chair 4.98\n",
    "coffee 1.99\n",
    "fan 10.97\n",
    "car 11499.59\n",
    "banana 0.09\"\"\"\n",
    "\n",
    "\n",
    "findPattern = r'(?m).+(?<!\\.99)$'\n",
    "matches = re.finditer(findPattern, inputText)\n",
    "for match in matches:\n",
    "    print(match.group(0), \"is present at location\" , match.start())"
   ]
  },
  {
   "cell_type": "markdown",
   "metadata": {},
   "source": [
    "__Question 6__  \n",
    "\n",
    "```\n",
    "List all the cars that do not start with exl or xle\n",
    "\n",
    "Input:\n",
    "exl-accord\n",
    "ex-accord\n",
    "se-camry\n",
    "xle-camry\n",
    "exl-civic\n",
    "Expected Output:\n",
    "ex-accord\n",
    "se-camry \n",
    "```"
   ]
  },
  {
   "cell_type": "code",
   "execution_count": 72,
   "metadata": {},
   "outputs": [
    {
     "name": "stdout",
     "output_type": "stream",
     "text": [
      "ex-accord is present at location 11\n",
      "se-camry is present at location 21\n"
     ]
    }
   ],
   "source": [
    "inputText = \"\"\"exl-accord\n",
    "ex-accord\n",
    "se-camry\n",
    "xle-camry\n",
    "exl-civic\"\"\"\n",
    "\n",
    "\n",
    "findPattern = r'(?m)^(?!exl|xle).+$'\n",
    "matches = re.finditer(findPattern, inputText)\n",
    "for match in matches:\n",
    "    print(match.group(0), \"is present at location\" , match.start())"
   ]
  },
  {
   "cell_type": "markdown",
   "metadata": {},
   "source": [
    "__Question 6__  \n",
    "```\n",
    "Write a pattern that checks for a valid password. A password must contain\n",
    "\n",
    "a. An uppercase letter A-Z\n",
    "\n",
    "b. A lowercase letter a-z\n",
    "\n",
    "c. A digit 0-9\n",
    "\n",
    "d. A special character [!?^$]\n",
    "\n",
    "Hint: You can use multiple lookahead groups in a pattern – each checking for one condition. There is no minimum or maximum password length restriction for this example.\n",
    "\n",
    "Sample Input:\n",
    "Av!1\n",
    "abcd\n",
    "Av&1\n",
    "!cA3R\n",
    "Expected Output:\n",
    "Av!1\n",
    "!cA3R\n",
    "```"
   ]
  },
  {
   "cell_type": "code",
   "execution_count": 79,
   "metadata": {},
   "outputs": [
    {
     "name": "stdout",
     "output_type": "stream",
     "text": [
      "Av!1 is present at location 0\n",
      "!cA3R is present at location 15\n"
     ]
    }
   ],
   "source": [
    "inputText='''Av!1\n",
    "abcd\n",
    "Av&1\n",
    "!cA3R\n",
    "'''\n",
    "\n",
    "findPattern = r'(?m)^(?=.*[A-Z])(?=.*[a-z])(?=.*[0-9])(?=.*[!?^$]).+$'\n",
    "matches = re.finditer(findPattern, inputText)\n",
    "for match in matches:\n",
    "    print(match.group(0), \"is present at location\" , match.start())"
   ]
  },
  {
   "cell_type": "code",
   "execution_count": null,
   "metadata": {},
   "outputs": [],
   "source": []
  }
 ],
 "metadata": {
  "kernelspec": {
   "display_name": "Python 3",
   "language": "python",
   "name": "python3"
  },
  "language_info": {
   "codemirror_mode": {
    "name": "ipython",
    "version": 3
   },
   "file_extension": ".py",
   "mimetype": "text/x-python",
   "name": "python",
   "nbconvert_exporter": "python",
   "pygments_lexer": "ipython3",
   "version": "3.7.6"
  }
 },
 "nbformat": 4,
 "nbformat_minor": 4
}
