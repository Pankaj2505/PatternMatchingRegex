{
 "cells": [
  {
   "cell_type": "markdown",
   "metadata": {},
   "source": [
    "<h1>Introduction to Python Regex Module</h1>\n",
    "In this notebook, we explore regex module functions and capabilities<br>\n",
    "https://docs.python.org/3/library/re.html"
   ]
  },
  {
   "cell_type": "code",
   "execution_count": 3,
   "metadata": {},
   "outputs": [],
   "source": [
    "# import python regex module\n",
    "import re"
   ]
  },
  {
   "cell_type": "markdown",
   "metadata": {},
   "source": [
    "<h2>Raw String and Regular String</h2>\n",
    "Always use Raw string for Regex Patterns"
   ]
  },
  {
   "cell_type": "code",
   "execution_count": 2,
   "metadata": {},
   "outputs": [
    {
     "data": {
      "text/plain": [
       "'a \\t b'"
      ]
     },
     "execution_count": 2,
     "metadata": {},
     "output_type": "execute_result"
    }
   ],
   "source": [
    "text = \"a \\t b\"\n",
    "text"
   ]
  },
  {
   "cell_type": "code",
   "execution_count": 3,
   "metadata": {},
   "outputs": [
    {
     "name": "stdout",
     "output_type": "stream",
     "text": [
      "a \\t b\n"
     ]
    }
   ],
   "source": [
    "# you usually need to use a double backslash in the string literal to actually get a single backslash for a path.\n",
    "\n",
    "text = r\"a \\t b\"\n",
    "print(text)\n",
    "\n",
    "#here raw string is using prefix slash to make it escape when system runs it\n"
   ]
  },
  {
   "cell_type": "markdown",
   "metadata": {},
   "source": [
    "<h2>re.match - Find first match</h2>\n",
    "Find match at the beginning of a string<br>\n",
    "Useful for validating input from users"
   ]
  },
  {
   "cell_type": "code",
   "execution_count": 4,
   "metadata": {},
   "outputs": [],
   "source": [
    "text = \"45 is my lucky no \"\n",
    "text1 = \"my age is 28\"  #match funciton willnot work here "
   ]
  },
  {
   "cell_type": "code",
   "execution_count": 5,
   "metadata": {},
   "outputs": [
    {
     "name": "stdout",
     "output_type": "stream",
     "text": [
      "<re.Match object; span=(0, 2), match='45'>\n"
     ]
    }
   ],
   "source": [
    "pattern = r'\\d+'\n",
    "match = re.match(pattern , text)\n",
    "print(match )"
   ]
  },
  {
   "cell_type": "code",
   "execution_count": 6,
   "metadata": {},
   "outputs": [
    {
     "name": "stdout",
     "output_type": "stream",
     "text": [
      "match success\n"
     ]
    }
   ],
   "source": [
    "print(\"match success\") if match else print(\"Not found\") "
   ]
  },
  {
   "cell_type": "code",
   "execution_count": 7,
   "metadata": {
    "scrolled": true
   },
   "outputs": [
    {
     "name": "stdout",
     "output_type": "stream",
     "text": [
      "45 at index 0\n"
     ]
    }
   ],
   "source": [
    "#if I need to print the matched element \n",
    "print(match.group(0), 'at index', match.start())"
   ]
  },
  {
   "cell_type": "code",
   "execution_count": null,
   "metadata": {},
   "outputs": [],
   "source": []
  },
  {
   "cell_type": "markdown",
   "metadata": {},
   "source": [
    "<h3>input validation</h3>"
   ]
  },
  {
   "cell_type": "code",
   "execution_count": 8,
   "metadata": {},
   "outputs": [],
   "source": [
    "# A shopping card must accept only Integer for no of ITEM\n",
    "def is_integer(input_int):\n",
    "    pattern = r\"^\\d+$\"\n",
    "    match = re.match(pattern, input_int)\n",
    "    if match :\n",
    "        return True\n",
    "    else:\n",
    "        return False"
   ]
  },
  {
   "cell_type": "code",
   "execution_count": 9,
   "metadata": {},
   "outputs": [
    {
     "data": {
      "text/plain": [
       "True"
      ]
     },
     "execution_count": 9,
     "metadata": {},
     "output_type": "execute_result"
    }
   ],
   "source": [
    "is_integer(\"123\")"
   ]
  },
  {
   "cell_type": "code",
   "execution_count": 10,
   "metadata": {},
   "outputs": [
    {
     "name": "stdout",
     "output_type": "stream",
     "text": [
      "\n",
      "\n",
      "\n",
      "Not classfied as integer a123\n",
      "Not classfied as integer 123a\n",
      "Not classfied as integer  124\n",
      "Not classfied as integer 123 \n",
      "Not classfied as integer 1 23\n",
      "Not classfied as integer 1\t32\n",
      "**********\n",
      "Test completed : Here i am using a match function\n"
     ]
    }
   ],
   "source": [
    "#Create a function to check above is_integer fuction\n",
    "\n",
    "def test_is_integer():\n",
    "    \"\"\"Here i am using match function \"\"\"\n",
    "    passlist =['123','0123','10']\n",
    "    faillist = ['a123','123a',' 124', '123 ','1 23', \"1\\t32\"]\n",
    "    \n",
    "    for text in passlist:\n",
    "        if not is_integer(text) :\n",
    "             print(\"the passed no is \", text) \n",
    "        else:\n",
    "            print()\n",
    "    for text in faillist:\n",
    "        if is_integer(text) :\n",
    "             print(\"Incorrectly classified as integer \", text) \n",
    "        else:\n",
    "            print(\"Not classfied as integer\", text)\n",
    "    print(\"*\"* 10)\n",
    "    print(\"Test completed : Here i am using a match function\")          \n",
    "test_is_integer()\n",
    "                "
   ]
  },
  {
   "cell_type": "markdown",
   "metadata": {},
   "source": [
    "### Important takeout\n",
    "\n",
    "**Pattern**\n",
    "- Here i am using match fucntion which check only start of string\n",
    "- \\\\$ check at the end of a string , this mean if i use \\\\$ it ensure string end with pattern\n",
    "- \\^ if i add this , regex pattern will make sure text must be a integer"
   ]
  },
  {
   "cell_type": "markdown",
   "metadata": {},
   "source": [
    "### Regex Performance\n",
    "When defining patterns, it is always a good idea to specify a series of positive and negative test cases.\n",
    "\n",
    "Regular Expression Engine has an interesting property.\n",
    "\n",
    "Often the best-case performance is observed when there is a match, and worst-case performance is observed under partial match or no match scenarios.\n",
    "\n",
    "So, the positive and negative test cases serve two purposes: to verify functionality and to validate performance."
   ]
  },
  {
   "cell_type": "markdown",
   "metadata": {},
   "source": [
    "<h2>re.search - Find the first match anywhere</h2>"
   ]
  },
  {
   "cell_type": "code",
   "execution_count": 11,
   "metadata": {},
   "outputs": [],
   "source": [
    "text = \"my lucky no is 42\"\n",
    "text1 = \"45 is my lucky no 54\"  # but this return only the first match "
   ]
  },
  {
   "cell_type": "code",
   "execution_count": 12,
   "metadata": {},
   "outputs": [
    {
     "name": "stdout",
     "output_type": "stream",
     "text": [
      "<re.Match object; span=(15, 17), match='42'>\n",
      "<re.Match object; span=(18, 20), match='54'>\n"
     ]
    }
   ],
   "source": [
    "pattern = r'\\d+' # one or more no\n",
    "match = re.search(pattern , text)\n",
    "print(match )\n",
    "\n",
    "\n",
    "\n",
    "pattern1 = r\"\\d+$\"\n",
    "match1 = re.search(pattern1, text1)\n",
    "print(match1)"
   ]
  },
  {
   "cell_type": "code",
   "execution_count": 13,
   "metadata": {},
   "outputs": [
    {
     "name": "stdout",
     "output_type": "stream",
     "text": [
      "match success\n"
     ]
    }
   ],
   "source": [
    "print(\"match success\") if match else print(\"Not found\") "
   ]
  },
  {
   "cell_type": "code",
   "execution_count": 14,
   "metadata": {
    "scrolled": true
   },
   "outputs": [
    {
     "name": "stdout",
     "output_type": "stream",
     "text": [
      "Integer  42 at index 15\n"
     ]
    }
   ],
   "source": [
    "#if I need to print the matched element \n",
    "print(\"Integer \",match.group(0), 'at index', match.start())"
   ]
  },
  {
   "cell_type": "markdown",
   "metadata": {},
   "source": [
    "<h4> Input Validation </h4>"
   ]
  },
  {
   "cell_type": "code",
   "execution_count": 15,
   "metadata": {},
   "outputs": [],
   "source": [
    "# A shopping card must accept only Integer for no of ITEM\n",
    "def is_integer(input_int):\n",
    "    pattern = r\"^\\d+$\"\n",
    "    match = re.search(pattern, input_int)\n",
    "    if match :\n",
    "        return True\n",
    "    else:\n",
    "        return False"
   ]
  },
  {
   "cell_type": "code",
   "execution_count": 16,
   "metadata": {},
   "outputs": [
    {
     "data": {
      "text/plain": [
       "True"
      ]
     },
     "execution_count": 16,
     "metadata": {},
     "output_type": "execute_result"
    }
   ],
   "source": [
    "is_integer(\"123\")"
   ]
  },
  {
   "cell_type": "code",
   "execution_count": 17,
   "metadata": {},
   "outputs": [
    {
     "name": "stdout",
     "output_type": "stream",
     "text": [
      "\n",
      "\n",
      "\n",
      "Not classfied as integer a123\n",
      "Not classfied as integer 123a\n",
      "Not classfied as integer  124\n",
      "Not classfied as integer 123 \n",
      "Not classfied as integer 1 23\n",
      "Not classfied as integer 1\t32\n",
      "Not classfied as integer This is 42\n",
      "**********\n",
      "Test completed : Here i am using a search function\n"
     ]
    }
   ],
   "source": [
    "#Create a function to check above is_integer fuction\n",
    "\n",
    "def test_is_integer():\n",
    "    \"\"\"Here i am using match function \"\"\"\n",
    "    passlist =['123','0123','10']\n",
    "    faillist = ['a123','123a',' 124', '123 ','1 23', \"1\\t32\",\"This is 42\"]\n",
    "    \n",
    "    for text in passlist:\n",
    "        if not is_integer(text) :\n",
    "             print(\"the passed no is \", text) \n",
    "        else:\n",
    "            print()\n",
    "            \n",
    "            \n",
    "            \n",
    "            \n",
    "    for text in faillist:\n",
    "        if is_integer(text) :\n",
    "             print(\"Incorrectly classified as integer \", text) \n",
    "        else:\n",
    "            print(\"Not classfied as integer\", text)\n",
    "    print(\"*\"* 10)\n",
    "    print(\"Test completed : Here i am using a search function\")          \n",
    "test_is_integer()\n",
    "                "
   ]
  },
  {
   "cell_type": "markdown",
   "metadata": {},
   "source": []
  },
  {
   "cell_type": "markdown",
   "metadata": {},
   "source": [
    "## re.findall - Find all the matches</h2>\n",
    "1. Method returns only after scanning the entire text    \n",
    "2. This may take a long time"
   ]
  },
  {
   "cell_type": "code",
   "execution_count": 18,
   "metadata": {},
   "outputs": [],
   "source": [
    "text = \"all postal code in uttrakhand are 265940, 598701 and 235467\"\n",
    "# find all method will scan the whole file first and then return the values so this  gives a result late \n",
    "# it return a list so group fucntion will not work"
   ]
  },
  {
   "cell_type": "code",
   "execution_count": 19,
   "metadata": {},
   "outputs": [
    {
     "name": "stdout",
     "output_type": "stream",
     "text": [
      "['265940', '598701', '235467']\n",
      "['235467']\n"
     ]
    }
   ],
   "source": [
    "pattern = r'\\d+' # one or more no\n",
    "match = re.findall(pattern , text)\n",
    "print(match )\n",
    "\n",
    "pattern1 = r\"\\d+$\"  # This checks in the end of a string\n",
    "match = re.findall(pattern1, text)\n",
    "print(match)"
   ]
  },
  {
   "cell_type": "code",
   "execution_count": 20,
   "metadata": {},
   "outputs": [
    {
     "name": "stdout",
     "output_type": "stream",
     "text": [
      "match success\n"
     ]
    }
   ],
   "source": [
    "print(\"match success\") if match else print(\"Not found\") "
   ]
  },
  {
   "cell_type": "markdown",
   "metadata": {},
   "source": [
    "## re.finditer - Iterator\n",
    "1. method returns an iterator with the first match and you have control to ask for more matches\n",
    "2. find all method will scan the whole file first and then return the values so this  gives a result late \n",
    "3. findall return a list so group fucntion will not work\n",
    "4. we can find as many pattern from iteration , if we want top 10 then we can break the loop after 10th iteration"
   ]
  },
  {
   "cell_type": "code",
   "execution_count": 21,
   "metadata": {},
   "outputs": [],
   "source": [
    "text = \"all postal code in uttrakhand are 265940, 598701 and 235467\"\n",
    "# find all method will scan the whole file first and then return the values so this  gives a result late \n",
    "# it return a list so group fucntion will not work\n",
    "# we can find as many pattern from iteration , if we want top 10 then we can break the loop after 10th iteration"
   ]
  },
  {
   "cell_type": "code",
   "execution_count": 22,
   "metadata": {},
   "outputs": [
    {
     "name": "stdout",
     "output_type": "stream",
     "text": [
      "this return an iterator \n",
      " <callable_iterator object at 0x000001EF65C18148>\n"
     ]
    }
   ],
   "source": [
    "pattern = r'\\d+' # one or more no\n",
    "match_itr = re.finditer(pattern , text)\n",
    "print(\"this return an iterator \\n\",match_itr)"
   ]
  },
  {
   "cell_type": "code",
   "execution_count": 23,
   "metadata": {},
   "outputs": [
    {
     "name": "stdout",
     "output_type": "stream",
     "text": [
      "match success\n",
      "\t 265940 is at location 34\n",
      "\t 598701 is at location 42\n",
      "\t 235467 is at location 53\n"
     ]
    }
   ],
   "source": [
    "print(\"match success\") if match_itr else print(\"Not found\") \n",
    "\n",
    "for match in match_itr:\n",
    "    print(\"\\t\", match.group(0) , \"is at location\", match.start())"
   ]
  },
  {
   "cell_type": "markdown",
   "metadata": {},
   "source": [
    "<h2>groups - find sub matches </h2>"
   ]
  },
  {
   "cell_type": "code",
   "execution_count": 24,
   "metadata": {},
   "outputs": [
    {
     "name": "stdout",
     "output_type": "stream",
     "text": [
      "19910525 at location 14\n",
      "()\n",
      "19910525 at location 14\n",
      "('1991', '05', '25')\n",
      "\tGroup 1 1991 at location of a pattern  14\n",
      "\tGroup 2 05 at location of a pattern  18\n",
      "\tGroup 3 25 at location of a pattern  20\n"
     ]
    }
   ],
   "source": [
    "text = \"i was born in 19910525\" # here year = 1991, month = 05 day 25\n",
    "\n",
    "\n",
    "pattern = r\"\\d+\"\n",
    "match = re.search (pattern, text)\n",
    "\n",
    "if match :\n",
    "    print( match.group(0), \"at location\", match.start())\n",
    "    print(match.groups())\n",
    "else:\n",
    "    print(\"no match \")\n",
    "    \n",
    "\n",
    "    \n",
    "    \n",
    "    \n",
    "    \n",
    "    \n",
    "pattern1 = r\"(\\d{4})(\\d{2})(\\d{2})\"    \n",
    "match1 = re.search (pattern1, text)\n",
    "\n",
    "if match1:\n",
    "    print( match1.group(0), \"at location\", match1.start())\n",
    "    print(match1.groups())\n",
    "    \n",
    "    for idx, value in enumerate(match1.groups()):  # it gives index and values for iterator\n",
    "        print(\"\\tGroup\", idx+1 , value, \"at location of a pattern \", match1.start(idx+1))\n",
    "else:\n",
    "    print(\"no match \")"
   ]
  },
  {
   "cell_type": "markdown",
   "metadata": {},
   "source": [
    "<h3>named groups</h3>"
   ]
  },
  {
   "cell_type": "code",
   "execution_count": 25,
   "metadata": {},
   "outputs": [
    {
     "name": "stdout",
     "output_type": "stream",
     "text": [
      "\tGroup 1 1991 at location of a pattern  14\n",
      "\tGroup 2 05 at location of a pattern  18\n",
      "\tGroup 3 25 at location of a pattern  20\n"
     ]
    }
   ],
   "source": [
    "text = \"i was born in 19910525\" # here year = 1991, month = 05 day 25\n",
    "pattern = r\"(?P<year>\\d{4})(?P<month>\\d{2})(?P<day>\\d{2})\"    \n",
    "match = re.search (pattern, text)\n",
    "\n",
    "if match:\n",
    "    for idx, value in enumerate(match.groups()):  # it gives index and values for iterator\n",
    "        print(\"\\tGroup\", idx+1 , value, \"at location of a pattern \", match1.start(idx+1))\n",
    "else:\n",
    "    print(\"no match \")"
   ]
  },
  {
   "cell_type": "markdown",
   "metadata": {},
   "source": [
    "<h3>access by group name</h3>"
   ]
  },
  {
   "cell_type": "code",
   "execution_count": 26,
   "metadata": {},
   "outputs": [
    {
     "name": "stdout",
     "output_type": "stream",
     "text": [
      "19910525\n",
      "1991\n",
      "05\n",
      "25\n"
     ]
    }
   ],
   "source": [
    "if match:\n",
    "    print(match.group(0))\n",
    "    print(match.group(1))\n",
    "    print(match.group('month'))\n",
    "    print(match.group('day'))\n",
    "else:\n",
    "    print(\"no match \")"
   ]
  },
  {
   "cell_type": "markdown",
   "metadata": {},
   "source": [
    "<h2>re.sub - find and replace</h2>"
   ]
  },
  {
   "cell_type": "markdown",
   "metadata": {},
   "source": [
    "<h3>two patterns: one to find the text and another pattern with replacement text</h3>"
   ]
  },
  {
   "cell_type": "code",
   "execution_count": 27,
   "metadata": {},
   "outputs": [
    {
     "name": "stdout",
     "output_type": "stream",
     "text": [
      "Original Text \n",
      " 19910525\n",
      "string after replacement \n",
      " i was born in 05-25-1991\n"
     ]
    }
   ],
   "source": [
    "text = \"i was born in 19910525\" # here year = 1991, month = 05 day 25\n",
    "find_pattern = r\"(?P<year>\\d{4})(?P<month>\\d{2})(?P<day>\\d{2})\" \n",
    "replace_pattern= r\"\\g<month>-\\g<day>-\\g<year>\"\n",
    "print(\"Original Text \\n\", re.search(find_pattern, text).group())\n",
    "new_text = re.sub(find_pattern, replace_pattern, text)\n",
    "print(\"string after replacement \\n\", new_text)"
   ]
  },
  {
   "cell_type": "markdown",
   "metadata": {},
   "source": [
    "<h3>custom function to generate replacement text</h3>"
   ]
  },
  {
   "cell_type": "code",
   "execution_count": 30,
   "metadata": {},
   "outputs": [],
   "source": [
    "# let say i want date in a format may, 25, 1992\n",
    "import datetime\n",
    "def format_date(match):\n",
    "    in_date = match.groupdict()\n",
    "    year = int(in_date['year'])\n",
    "    month = int(in_date['month'])\n",
    "    day = int(in_date['day'])\n",
    "    return datetime.date(year, month ,day).strftime(\"%b-%d-%Y\")\n"
   ]
  },
  {
   "cell_type": "code",
   "execution_count": 35,
   "metadata": {},
   "outputs": [
    {
     "name": "stdout",
     "output_type": "stream",
     "text": [
      "original text \n",
      " i was born in 19910525\n",
      "New text \n",
      " i was born in May-25-1991\n",
      "{'year': '1991', 'month': '05', 'day': '25'}\n"
     ]
    }
   ],
   "source": [
    "text = \"i was born in 19910525\" # here year = 1991, month = 05 day 25\n",
    "find_pattern = r\"(?P<year>\\d{4})(?P<month>\\d{2})(?P<day>\\d{2})\" \n",
    "\n",
    "\n",
    "print(\"original text \\n\", text, end='\\n')\n",
    "\n",
    "new_text = re.sub(find_pattern, format_date, text)\n",
    "\n",
    "print(\"New text \\n\", new_text)\n",
    "\n",
    "print(re.search(find_pattern, text).groupdict())\n"
   ]
  },
  {
   "cell_type": "markdown",
   "metadata": {},
   "source": [
    "<h2>re.split - split text based on specified pattern</h2>"
   ]
  },
  {
   "cell_type": "code",
   "execution_count": 36,
   "metadata": {},
   "outputs": [
    {
     "data": {
      "text/plain": [
       "['my name is ', ' pankaj']"
      ]
     },
     "execution_count": 36,
     "metadata": {},
     "output_type": "execute_result"
    }
   ],
   "source": [
    "text = \"my name is , pankaj\"\n",
    "pattern = \",\"\n",
    "re.split(pattern, text)"
   ]
  },
  {
   "cell_type": "markdown",
   "metadata": {},
   "source": [
    "<h2>Using Compile Method</h2>"
   ]
  },
  {
   "cell_type": "code",
   "execution_count": 6,
   "metadata": {},
   "outputs": [
    {
     "name": "stdout",
     "output_type": "stream",
     "text": [
      "<re.Match object; span=(34, 40), match='265940'>\n",
      "['265940', '598701', '235467']\n"
     ]
    }
   ],
   "source": [
    "text = \"all postal code in uttrakhand are 265940, 598701 and 235467\"\n",
    "pattern = re.compile(r'\\d+')\n",
    "print(pattern.search(text))\n",
    "print(pattern.findall(text))"
   ]
  },
  {
   "cell_type": "code",
   "execution_count": null,
   "metadata": {},
   "outputs": [],
   "source": []
  }
 ],
 "metadata": {
  "kernelspec": {
   "display_name": "Python 3",
   "language": "python",
   "name": "python3"
  },
  "language_info": {
   "codemirror_mode": {
    "name": "ipython",
    "version": 3
   },
   "file_extension": ".py",
   "mimetype": "text/x-python",
   "name": "python",
   "nbconvert_exporter": "python",
   "pygments_lexer": "ipython3",
   "version": "3.7.6"
  }
 },
 "nbformat": 4,
 "nbformat_minor": 1
}
