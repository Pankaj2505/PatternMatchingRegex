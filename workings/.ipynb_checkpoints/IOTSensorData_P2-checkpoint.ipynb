{
 "cells": [
  {
   "cell_type": "code",
   "execution_count": 1,
   "metadata": {},
   "outputs": [],
   "source": [
    "import re\n",
    "import os\n",
    "import json\n",
    "from json import JSONEncoder\n",
    "import time\n",
    "import datetime"
   ]
  },
  {
   "cell_type": "markdown",
   "metadata": {},
   "source": [
    "**Identify the current directory , traverse and move to currect directory**"
   ]
  },
  {
   "cell_type": "code",
   "execution_count": 2,
   "metadata": {},
   "outputs": [
    {
     "name": "stdout",
     "output_type": "stream",
     "text": [
      "C:\\Users\\PankajBhatt\\Desktop\\Applied AI\\PatternMatching\\workings\n",
      "['.ipynb_checkpoints', 'IOTSensorData_P2.ipynb', 'RegexExercise.ipynb', 'Regex_Operation.ipynb', 'RegularExpressionNotes.ipynb', 'RoboCopyLog_P1`.ipynb']\n",
      "None\n",
      "C:\\Users\\PankajBhatt\\Desktop\\Applied AI\\PatternMatching\\DataSet\\SensorData\n"
     ]
    }
   ],
   "source": [
    "print(os.getcwd())\n",
    "print(os.listdir())\n",
    "#print(os.chdir('..'))  # To move to Parant Directory\n",
    "\n",
    "print(os.chdir(r'C:\\Users\\PankajBhatt\\Desktop\\Applied AI\\PatternMatching\\DataSet\\SensorData'))\n",
    "print(os.getcwd())\n",
    "sensorSmall = os.path.abspath(r'C:\\Users\\PankajBhatt\\Desktop\\Applied AI\\PatternMatching\\DataSet\\SensorData\\sensordata_small.txt')\n",
    "sensor7Days = os.path.abspath(r'C:\\Users\\PankajBhatt\\Desktop\\Applied AI\\PatternMatching\\DataSet\\SensorData\\sensordata_7days.txt')\n",
    "sensor365 = os.path.abspath(r'C:\\Users\\PankajBhatt\\Desktop\\Applied AI\\PatternMatching\\DataSet\\SensorData\\sensordata_365.txt')"
   ]
  },
  {
   "cell_type": "markdown",
   "metadata": {},
   "source": [
    "__Step 1__  \n",
    "```  \n",
    "Write a pattern to identify sensor data header.\n",
    "\n",
    "It should look for a four digit year, two digit month and two digit day at the beginning of a line.\n",
    "\n",
    "Matching values should be captured using their respective named groups: year, month and day\n",
    "\n",
    "For example, with this data:\n",
    "\n",
    "2016052006890290701029NNNN030NNNNNNN\n",
    "20160521070602906970290717NNNNNNNNNN\n",
    "201605220694029069603107060350703034\n",
    "First match should be: 20160520 and named groups should contain \n",
    "\n",
    "year: 2016\n",
    "\n",
    "month: 05\n",
    "\n",
    "day: 20\n",
    "\n",
    "Second match should be 20160521\n",
    "\n",
    "and so forth\n",
    "```"
   ]
  },
  {
   "cell_type": "markdown",
   "metadata": {},
   "source": [
    "__Read Data__"
   ]
  },
  {
   "cell_type": "code",
   "execution_count": 3,
   "metadata": {},
   "outputs": [
    {
     "name": "stdout",
     "output_type": "stream",
     "text": [
      "2016\n",
      "05\n",
      "20\n",
      "2016\n",
      "05\n",
      "21\n",
      "2016\n",
      "05\n",
      "22\n"
     ]
    }
   ],
   "source": [
    "# Read each line from file, each line holds data from new days\n",
    "find_pattern = r'(?i)^(?P<year>\\d{4})(?P<month>\\d{2})(?P<day>\\d{2})'\n",
    "with open(sensorSmall,'r') as file:\n",
    "    for line in file:\n",
    "        match = re.search(find_pattern, line)\n",
    "        print(match.group('year'))\n",
    "        print(match.group('month'))\n",
    "        print(match.group('day'))\n",
    "        "
   ]
  },
  {
   "cell_type": "markdown",
   "metadata": {},
   "source": [
    "__Step 2__\n",
    "```\n",
    "Write a pattern to match a data pair consisting of temperature followed by humidity\n",
    "\n",
    "Temperature is made up of four digits or NNNN\n",
    "\n",
    "Humidity is made up of three digits or NNN\n",
    "\n",
    "The values should be captured in the named groups temperature and humidity respectively\n",
    "\n",
    "For example:\n",
    "\n",
    "0689029NNNN030 \n",
    "\n",
    "First match should be 0689029 and captured groups are:\n",
    "\n",
    "temperature:0689\n",
    "\n",
    "humidity:029\n",
    "\n",
    "Second match should be NNNN030 and captured groups are:\n",
    "\n",
    "temperature:NNNN\n",
    "\n",
    "humidity:030\n",
    "```"
   ]
  },
  {
   "cell_type": "code",
   "execution_count": 4,
   "metadata": {},
   "outputs": [
    {
     "data": {
      "text/plain": [
       "['2016052006890290701029NNNN030NNNNNNN\\n',\n",
       " '20160521070602906970290717NNNNNNNNNN\\n',\n",
       " '201605220694029069603107060350703034']"
      ]
     },
     "execution_count": 4,
     "metadata": {},
     "output_type": "execute_result"
    }
   ],
   "source": [
    "with open(sensorSmall,'r') as file:\n",
    "    x = file.readlines()\n",
    "x"
   ]
  },
  {
   "cell_type": "code",
   "execution_count": 5,
   "metadata": {},
   "outputs": [
    {
     "name": "stdout",
     "output_type": "stream",
     "text": [
      "NNNN\n",
      "NNN\n",
      "next day\n",
      "NNNN\n",
      "NNN\n",
      "next day\n",
      "0703\n",
      "034\n",
      "next day\n"
     ]
    }
   ],
   "source": [
    "# Read each line from file, each line holds data from new days\n",
    "find_pattern = r'(?i)^(?:\\d{8})((?P<temperature>\\d{4}|NNNN)(?P<humidity>\\d{3}|NNN))+'\n",
    "with open(sensorSmall,'r') as file:\n",
    "    for line in file:\n",
    "        matches = re.finditer(find_pattern, line)\n",
    "        \n",
    "        for match in matches:\n",
    "            print(match.group('temperature'))\n",
    "            print(match.group('humidity'))\n",
    "            print(\"next day\")\n",
    "       \n",
    "        "
   ]
  },
  {
   "cell_type": "markdown",
   "metadata": {},
   "source": [
    "#### Finding \n",
    "1. we are getting for last pattern\n",
    "2. we can remove first 8 character and then search for pattern"
   ]
  },
  {
   "cell_type": "code",
   "execution_count": 6,
   "metadata": {},
   "outputs": [
    {
     "name": "stdout",
     "output_type": "stream",
     "text": [
      "<re.Match object; span=(0, 7), match='0689029'>\n",
      "<re.Match object; span=(7, 14), match='0701029'>\n",
      "<re.Match object; span=(14, 21), match='NNNN030'>\n",
      "<re.Match object; span=(21, 28), match='NNNNNNN'>\n"
     ]
    }
   ],
   "source": [
    "line = '06890290701029NNNN030NNNNNNN'\n",
    "find_pattern = r'(?i)[0-9N]{4}[0-9N]{3}'\n",
    "\n",
    "matches = re.finditer(find_pattern, line)\n",
    "for match in matches:\n",
    "    print(match)\n",
    "\n",
    "\n"
   ]
  },
  {
   "cell_type": "markdown",
   "metadata": {},
   "source": [
    "# Clubbing the steps in single method"
   ]
  },
  {
   "cell_type": "code",
   "execution_count": 7,
   "metadata": {},
   "outputs": [],
   "source": [
    "class MyEncoder(JSONEncoder):\n",
    "    def default(self, o):\n",
    "        return o.__dict__ \n",
    "# http://stackoverflow.com/questions/3768895/how-to-make-a-class-json-serializable    "
   ]
  },
  {
   "cell_type": "code",
   "execution_count": 8,
   "metadata": {},
   "outputs": [],
   "source": [
    "class IOTSensor:\n",
    "    'To capture the output of sensor data'\n",
    "    def __init__(self):\n",
    "        self.date = ''\n",
    "        self.temperature = []\n",
    "        self.humidity = []\n",
    "        "
   ]
  },
  {
   "cell_type": "code",
   "execution_count": 15,
   "metadata": {},
   "outputs": [],
   "source": [
    "def iotSensorProcess(fileName):\n",
    "    'extract data from file for each line, categorize them, store them in a class for each day and store each day in a list'\n",
    "    \n",
    "    startTime= time.time()\n",
    "    \n",
    "    datePattern = r'(?i)^(?P<year>\\d{4})(?P<month>\\d{2})(?P<day>\\d{2})'\n",
    "    infoPattern = re.compile(r'(?i)(?P<temperature>[0-9N]{4})(?P<humidity>[0-9N]{3})')\n",
    "    \n",
    "    \n",
    "    all_data = []  # to store multiple days of data\n",
    "    \n",
    "    with open(fileName, 'r', encoding='utf-8') as data:\n",
    "        for line in data:\n",
    "            \n",
    "            iotSensor = IOTSensor()\n",
    "            match = re.search(datePattern,line)\n",
    "            \n",
    "            if match:\n",
    "                iotSensor.date = '-'.join([match.group('year'),match.group('month'),match.group('day')])\n",
    "                                       \n",
    "                # we need to skip first 8 character from each line, so we are using copiled object finditr\n",
    "                headerLength = len(iotSensor.date)\n",
    "                matches = infoPattern.finditer(line, headerLength)\n",
    "                                           \n",
    "                for match in matches:\n",
    "                    iotSensor.temperature.append(match.group('temperature'))\n",
    "                    iotSensor.humidity.append(match.group('humidity'))  \n",
    "            all_data.append(iotSensor)\n",
    "        \n",
    "        endTime=time.time()\n",
    "        print ('Elapsed time for parsing and format conversion: {0:.2f}s'.format(endTime-startTime))\n",
    "        \n",
    "        with open(fileName+'.json','w', encoding='utf-8') as wr:\n",
    "            json.dump(all_data, wr, ensure_ascii=False, cls=MyEncoder, indent=True)\n",
    "               \n",
    "        endTime=time.time()    \n",
    "        print ('Elapsed time write to File : {0:.2f}s'.format(endTime-startTime))\n",
    "        "
   ]
  },
  {
   "cell_type": "code",
   "execution_count": 17,
   "metadata": {},
   "outputs": [
    {
     "name": "stdout",
     "output_type": "stream",
     "text": [
      "Elapsed time for parsing and format conversion: 2.55s\n",
      "Elapsed time write to File : 6.85s\n"
     ]
    }
   ],
   "source": [
    "iotSensorProcess(sensor365)"
   ]
  },
  {
   "cell_type": "code",
   "execution_count": null,
   "metadata": {},
   "outputs": [],
   "source": []
  }
 ],
 "metadata": {
  "kernelspec": {
   "display_name": "Python 3",
   "language": "python",
   "name": "python3"
  }
 },
 "nbformat": 4,
 "nbformat_minor": 4
}
