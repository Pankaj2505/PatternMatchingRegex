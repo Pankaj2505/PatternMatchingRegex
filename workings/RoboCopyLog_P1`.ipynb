{
 "cells": [
  {
   "cell_type": "markdown",
   "metadata": {},
   "source": [
    "# Point to remember \n",
    "1. With in square bracket . has litral meaning else where use esacape charater with it"
   ]
  },
  {
   "cell_type": "code",
   "execution_count": 66,
   "metadata": {},
   "outputs": [],
   "source": [
    "import re\n",
    "import os\n",
    "import json\n",
    "from json import JSONEncoder\n",
    "import time"
   ]
  },
  {
   "cell_type": "markdown",
   "metadata": {},
   "source": [
    "__Project 1- Log Parser__\n",
    "```\n",
    "Write a pattern to capture the source and destination path from the header section.\n",
    "\n",
    "Use the Learn Regex Tool for writing the pattern and refer to the regex cheat sheet for any help.\n",
    "\n",
    "Once the pattern is ready, copy them to a text file\n",
    "\n",
    "The pattern should capture the type of directory and the directory path using the following named groups\n",
    "\n",
    "type should capture Source or Destn\n",
    "\n",
    "dir should capture the path\n",
    "\n",
    "For example:\n",
    "\n",
    "Input:\n",
    "Source : C:\\RegularExpressionsWithDotNet\\robocopytest\\source\\தமிழ்\\हिन्दी\\English\n",
    "Dest : C:\\RegularExpressionsWithDotNet\\robocopytest\\destn\\\n",
    "Output:\n",
    "Match 1\n",
    "type:Source\n",
    "dir:C:\\RegularExpressionsWithDotNet\\robocopytest\\source\\தமிழ்\\हिन्दी\\English\n",
    " \n",
    "Match 2\n",
    "type:Dest\n",
    "dir:C:\\RegularExpressionsWithDotNet\\robocopytest\\destn\\\n",
    "        ```"
   ]
  },
  {
   "cell_type": "code",
   "execution_count": 13,
   "metadata": {},
   "outputs": [
    {
     "name": "stdout",
     "output_type": "stream",
     "text": [
      "C:\\Users\\PankajBhatt\\Desktop\\Applied AI\\PatternMatching\\DataSet\\RobocopyLog\\rocopylog.txt\n",
      "C:\\Users\\PankajBhatt\\Desktop\\Applied AI\\PatternMatching\\DataSet\\RobocopyLog\\rocopylog_invalid_source.txt\n"
     ]
    }
   ],
   "source": [
    "#print(os.getcwd())\n",
    "#print(os.listdir())\n",
    "path = r'C:\\Users\\PankajBhatt\\Desktop\\Applied AI\\PatternMatching\\DataSet\\RobocopyLog'\n",
    "successful_log= r'rocopylog.txt'\n",
    "error_log = r'rocopylog_invalid_source.txt'\n",
    "#os.chdir(path)\n",
    "if os.path.isdir(path):\n",
    "    if os.path.exists(path+'\\\\'+successful_log):\n",
    "         successful_log = os.path.join(path,successful_log)\n",
    "    if os.path.exists(path+'\\\\'+error_log):\n",
    "         error_log = os.path.join(path,error_log)         \n",
    "print(successful_log)\n",
    "print(error_log)\n"
   ]
  },
  {
   "cell_type": "code",
   "execution_count": 24,
   "metadata": {},
   "outputs": [
    {
     "name": "stdout",
     "output_type": "stream",
     "text": [
      "<class 'str'>\n"
     ]
    },
    {
     "data": {
      "text/plain": [
       "'\\n-------------------------------------------------------------------------------\\n   ROBOCOPY     ::     Robust File Copy for Windows                              \\n-------------------------------------------------------------------------------\\n\\n  Started : Sunday, May 1, 2016 1:59:16 PM\\n   Source : C:\\\\RegularExpressionsWithDotNet\\\\robocopytest\\\\source\\\\தமிழ்\\\\हिन्दी\\\\English\\n     Dest : C:\\\\RegularExpressionsWithDotNet\\\\robocopytest\\\\destn\\\\\\n\\n    Files : *.*\\n\\t    \\n  Options : *.* /BYTES /S /DCOPY:DA /COPY:DAT /NP /R:1000000 /W:30 \\n\\n------------------------------------------------------------------------------\\n\\n\\t                   6\\tC:\\\\RegularExpressionsWithDotNet\\\\robocopytest\\\\source\\\\\\n\\t    New File  \\t\\t     189\\tApp.config\\n\\t    New File  \\t\\t    2362\\tForm1.cs\\n\\t    New File  \\t\\t    5998\\tForm1.Designer.cs\\n\\t    New File  \\t\\t    5817\\tForm1.resx\\n\\t    New File  \\t\\t     536\\tProgram.cs\\n\\t    New File  \\t\\t    3924\\tRegExTutorial.csproj\\n\\t  New Dir          0\\tC:\\\\RegularExpressionsWithDotNet\\\\robocopytest\\\\source\\\\bin\\\\\\n\\t  New Dir          6\\tC:\\\\RegularExpressionsWithDotNet\\\\robocopytest\\\\source\\\\bin\\\\Debug\\\\\\n\\t    New File  \\t\\t   11264\\tRegExTutorial.exe\\n\\t    New File  \\t\\t     189\\tRegExTutorial.exe.config\\n\\t    New File  \\t\\t   22016\\tRegExTutorial.pdb\\n\\t    New File  \\t\\t   22696\\tRegExTutorial.vshost.exe\\n\\t    New File  \\t\\t     189\\tRegExTutorial.vshost.exe.config\\n\\t    New File  \\t\\t     490\\tRegExTutorial.vshost.exe.manifest\\n\\t  New Dir          0\\tC:\\\\RegularExpressionsWithDotNet\\\\robocopytest\\\\source\\\\obj\\\\\\n\\t  New Dir         12\\tC:\\\\RegularExpressionsWithDotNet\\\\robocopytest\\\\source\\\\obj\\\\Debug\\\\\\n\\t    New File  \\t\\t    1464\\tDesignTimeResolveAssemblyReferences.cache\\n\\t    New File  \\t\\t    7236\\tDesignTimeResolveAssemblyReferencesInput.cache\\n\\t    New File  \\t\\t     906\\tRegExTutorial.csproj.FileListAbsolute.txt\\n\\t    New File  \\t\\t    1012\\tRegExTutorial.csproj.GenerateResource.Cache\\n\\t    New File  \\t\\t    2384\\tRegExTutorial.csprojResolveAssemblyReference.cache\\n\\t    New File  \\t\\t   11264\\tRegExTutorial.exe\\n\\t    New File  \\t\\t     180\\tRegExTutorial.Form1.resources\\n\\t    New File  \\t\\t   22016\\tRegExTutorial.pdb\\n\\t    New File  \\t\\t     180\\tRegExTutorial.Properties.Resources.resources\\n\\t    New File  \\t\\t       0\\tTemporaryGeneratedFile_036C0B5B-1481-4323-8D20-8F5ADCB23D92.cs\\n\\t    New File  \\t\\t       0\\tTemporaryGeneratedFile_5937a670-0e60-4077-877b-f7221da3dda1.cs\\n\\t    New File  \\t\\t       0\\tTemporaryGeneratedFile_E7A71F73-0F8D-4B9B-B56E-8E70B10BC5D3.cs\\n\\t  New Dir          0\\tC:\\\\RegularExpressionsWithDotNet\\\\robocopytest\\\\source\\\\obj\\\\Debug\\\\TempPE\\\\\\n\\t  New Dir          5\\tC:\\\\RegularExpressionsWithDotNet\\\\robocopytest\\\\source\\\\Properties\\\\\\n\\t    New File  \\t\\t    1438\\tAssemblyInfo.cs\\n\\t    New File  \\t\\t    2856\\tResources.Designer.cs\\n\\t    New File  \\t\\t    5612\\tResources.resx\\n\\t    New File  \\t\\t    1100\\tSettings.Designer.cs\\n\\t    New File  \\t\\t     249\\tSettings.settings\\n\\n------------------------------------------------------------------------------\\n\\n               Total    Copied   Skipped  Mismatch    FAILED    Extras\\n    Dirs :         7         6         1         0         0         0\\n   Files :        29        29         0         0         0         0\\n   Bytes :    133567    133567         0         0         0         0\\n   Times :   0:00:00   0:00:00                       0:00:00   0:00:00\\n\\n\\n   Speed :             8904466 Bytes/sec.\\n   Speed :             509.517 MegaBytes/min.\\n   Ended : Sunday, May 1, 2016 1:59:16 PM\\n\\n'"
      ]
     },
     "execution_count": 24,
     "metadata": {},
     "output_type": "execute_result"
    }
   ],
   "source": [
    "with open(successful_log,'r',encoding='utf-8') as log:\n",
    "    #data = log.readlines() #return the list \n",
    "    data_successful = log.read() #if no n is specified read entire file\n",
    "    \n",
    "#print(type(data))\n",
    "print(type(data_successful))\n",
    "data_successful\n"
   ]
  },
  {
   "cell_type": "code",
   "execution_count": 15,
   "metadata": {},
   "outputs": [
    {
     "name": "stdout",
     "output_type": "stream",
     "text": [
      "Source\n",
      "C:\\RegularExpressionsWithDotNet\\robocopytest\\source\\தமிழ்\\हिन्दी\\English\n",
      "Dest\n",
      "C:\\RegularExpressionsWithDotNet\\robocopytest\\destn\n"
     ]
    }
   ],
   "source": [
    "findPattern = re.compile(r'(?im)^\\s+(?P<type>Source|Dest)\\s:\\s(?P<dir>[A-Z]:\\S+\\b)')\n",
    "#print(findPattern.findall(data_successful))\n",
    "\n",
    "\n",
    "\n",
    "matches = findPattern.finditer(data_successful)\n",
    "for match in matches:\n",
    "    print(match.group('type'))\n",
    "    print(match.group('dir'))"
   ]
  },
  {
   "cell_type": "markdown",
   "metadata": {},
   "source": [
    "__Step2__\n",
    "```\n",
    "\n",
    "Write a pattern to capture error message from the log file.\n",
    "\n",
    "The pattern should capture the time stamp and the error message in the following named groups\n",
    "\n",
    "ts should capture the time stamp\n",
    "\n",
    "error should capture the error message\n",
    "\n",
    "For example:\n",
    "\n",
    "Input:\n",
    "-------------------------------------------------------------------------------\n",
    "ROBOCOPY :: Robust File Copy for Windows\n",
    "-------------------------------------------------------------------------------\n",
    "Started : Saturday, May 28, 2016 7:24:30 PM\n",
    "Source : C:\\RegularExpressionsWithDotNet\\robocopytest\\source2\\\n",
    "Dest : C:\\RegularExpressionsWithDotNet\\robocopytest\\destn\\\n",
    "Files : *.*\n",
    " \n",
    "Options : *.* /BYTES /S /DCOPY:DA /COPY:DAT /NP /R:1000000 /W:30\n",
    "------------------------------------------------------------------------------\n",
    "2016/05/28 19:24:30 ERROR 2 (0x00000002) Accessing Source Directory C:\\RegularExpressionsWithDotNet\\robocopytest\\source2\\\n",
    "The system cannot find the file specified.\n",
    "Output:\n",
    "ts:2016/05/28 19:24:30\n",
    "error: 2 (0x00000002) Accessing Source Directory C:\\RegularExpressionsWithD\n",
    "```"
   ]
  },
  {
   "cell_type": "code",
   "execution_count": 16,
   "metadata": {},
   "outputs": [
    {
     "data": {
      "text/plain": [
       "'\\n-------------------------------------------------------------------------------\\n   ROBOCOPY     ::     Robust File Copy for Windows                              \\n-------------------------------------------------------------------------------\\n\\n  Started : Saturday, May 28, 2016 7:24:30 PM\\n   Source : C:\\\\RegularExpressionsWithDotNet\\\\robocopytest\\\\source2\\\\\\n     Dest : C:\\\\RegularExpressionsWithDotNet\\\\robocopytest\\\\destn\\\\\\n\\n    Files : *.*\\n\\t    \\n  Options : *.* /BYTES /S /DCOPY:DA /COPY:DAT /NP /R:1000000 /W:30 \\n\\n------------------------------------------------------------------------------\\n\\n2016/05/28 19:24:30 ERROR 2 (0x00000002) Accessing Source Directory C:\\\\RegularExpressionsWithDotNet\\\\robocopytest\\\\source2\\\\\\nThe system cannot find the file specified.\\n\\n'"
      ]
     },
     "execution_count": 16,
     "metadata": {},
     "output_type": "execute_result"
    }
   ],
   "source": [
    "with open(error_log,'r') as log:\n",
    "    data_error = log.read()\n",
    "    #data = log.readlines()\n",
    "data_error\n",
    "#data"
   ]
  },
  {
   "cell_type": "code",
   "execution_count": 17,
   "metadata": {},
   "outputs": [
    {
     "name": "stdout",
     "output_type": "stream",
     "text": [
      "2016/05/28 19:24:30\n",
      "2 (0x00000002) Accessing Source Directory C:\\RegularExpressionsWithDotNet\\robocopytest\\source2\n"
     ]
    }
   ],
   "source": [
    "findPattern = re.compile(r'(?im)(?P<ts>\\d{4}(/\\d{2}){2}\\s+(\\d{2}:){2}\\d+)\\s+ERROR\\s+(?P<error>\\d+\\s+\\S+(\\s+\\w+)+:(\\\\\\w+)+)')\n",
    "#print(findPattern.findall(data_successful))\n",
    "\n",
    "\n",
    "matches = findPattern.finditer(data_error)\n",
    "for match in matches:\n",
    "    #print(match.group(0))\n",
    "    print(match.group('ts'))\n",
    "    print(match.group('error'))"
   ]
  },
  {
   "cell_type": "markdown",
   "metadata": {},
   "source": [
    "__Step 3__\n",
    "```\n",
    "Write a pattern to capture entries from the metrics table in the log file\n",
    "\n",
    "The pattern should capture values in the following named groups\n",
    "\n",
    "· type should capture Dirs, Files and Bytes\n",
    "\n",
    "· total should capture value in the total column\n",
    "\n",
    "· copied should capture value in the copied column\n",
    "\n",
    "· skipped should capture value in the skipped column\n",
    "\n",
    "· mismatch should capture value in the mismatch column\n",
    "\n",
    "· failed should capture value in the failed column\n",
    "\n",
    "· extras should capture value in the extras column\n",
    "\n",
    "An example is given here\n",
    "\n",
    "------------------------------------------------------------------------------\n",
    "               Total    Copied   Skipped  Mismatch    FAILED    Extras\n",
    "    Dirs :         7         6         1         0         0         0\n",
    "   Files :        29        29         0         0         0         0\n",
    "   Bytes :    133567    133567         0         0         0         0\n",
    "   Times :   0:00:00   0:00:00                       0:00:00   0:00:00\n",
    "   Speed :             8904466 Bytes/sec.\n",
    "   Speed :             509.517 MegaBytes/min.\n",
    "   Ended : Sunday, May 1, 2016 1:59:16 PM\n",
    "With the above text,\n",
    "\n",
    "First match should match \"Dirs\" row and capture the values in following named groups:\n",
    " \n",
    "type:Dirs\n",
    "total:7\n",
    "copied:6\n",
    "skipped:1\n",
    "mismatch:0\n",
    "failed:0\n",
    "extras:0\n",
    " \n",
    "Subsequent matches should match the rows for Files and Bytes\n",
    "```\n",
    "\n"
   ]
  },
  {
   "cell_type": "code",
   "execution_count": 18,
   "metadata": {},
   "outputs": [
    {
     "data": {
      "text/plain": [
       "['\\n',\n",
       " '-------------------------------------------------------------------------------\\n',\n",
       " '   ROBOCOPY     ::     Robust File Copy for Windows                              \\n',\n",
       " '-------------------------------------------------------------------------------\\n',\n",
       " '\\n',\n",
       " '  Started : Sunday, May 1, 2016 1:59:16 PM\\n',\n",
       " '   Source : C:\\\\RegularExpressionsWithDotNet\\\\robocopytest\\\\source\\\\தமிழ்\\\\हिन्दी\\\\English\\n',\n",
       " '     Dest : C:\\\\RegularExpressionsWithDotNet\\\\robocopytest\\\\destn\\\\\\n',\n",
       " '\\n',\n",
       " '    Files : *.*\\n',\n",
       " '\\t    \\n',\n",
       " '  Options : *.* /BYTES /S /DCOPY:DA /COPY:DAT /NP /R:1000000 /W:30 \\n',\n",
       " '\\n',\n",
       " '------------------------------------------------------------------------------\\n',\n",
       " '\\n',\n",
       " '\\t                   6\\tC:\\\\RegularExpressionsWithDotNet\\\\robocopytest\\\\source\\\\\\n',\n",
       " '\\t    New File  \\t\\t     189\\tApp.config\\n',\n",
       " '\\t    New File  \\t\\t    2362\\tForm1.cs\\n',\n",
       " '\\t    New File  \\t\\t    5998\\tForm1.Designer.cs\\n',\n",
       " '\\t    New File  \\t\\t    5817\\tForm1.resx\\n',\n",
       " '\\t    New File  \\t\\t     536\\tProgram.cs\\n',\n",
       " '\\t    New File  \\t\\t    3924\\tRegExTutorial.csproj\\n',\n",
       " '\\t  New Dir          0\\tC:\\\\RegularExpressionsWithDotNet\\\\robocopytest\\\\source\\\\bin\\\\\\n',\n",
       " '\\t  New Dir          6\\tC:\\\\RegularExpressionsWithDotNet\\\\robocopytest\\\\source\\\\bin\\\\Debug\\\\\\n',\n",
       " '\\t    New File  \\t\\t   11264\\tRegExTutorial.exe\\n',\n",
       " '\\t    New File  \\t\\t     189\\tRegExTutorial.exe.config\\n',\n",
       " '\\t    New File  \\t\\t   22016\\tRegExTutorial.pdb\\n',\n",
       " '\\t    New File  \\t\\t   22696\\tRegExTutorial.vshost.exe\\n',\n",
       " '\\t    New File  \\t\\t     189\\tRegExTutorial.vshost.exe.config\\n',\n",
       " '\\t    New File  \\t\\t     490\\tRegExTutorial.vshost.exe.manifest\\n',\n",
       " '\\t  New Dir          0\\tC:\\\\RegularExpressionsWithDotNet\\\\robocopytest\\\\source\\\\obj\\\\\\n',\n",
       " '\\t  New Dir         12\\tC:\\\\RegularExpressionsWithDotNet\\\\robocopytest\\\\source\\\\obj\\\\Debug\\\\\\n',\n",
       " '\\t    New File  \\t\\t    1464\\tDesignTimeResolveAssemblyReferences.cache\\n',\n",
       " '\\t    New File  \\t\\t    7236\\tDesignTimeResolveAssemblyReferencesInput.cache\\n',\n",
       " '\\t    New File  \\t\\t     906\\tRegExTutorial.csproj.FileListAbsolute.txt\\n',\n",
       " '\\t    New File  \\t\\t    1012\\tRegExTutorial.csproj.GenerateResource.Cache\\n',\n",
       " '\\t    New File  \\t\\t    2384\\tRegExTutorial.csprojResolveAssemblyReference.cache\\n',\n",
       " '\\t    New File  \\t\\t   11264\\tRegExTutorial.exe\\n',\n",
       " '\\t    New File  \\t\\t     180\\tRegExTutorial.Form1.resources\\n',\n",
       " '\\t    New File  \\t\\t   22016\\tRegExTutorial.pdb\\n',\n",
       " '\\t    New File  \\t\\t     180\\tRegExTutorial.Properties.Resources.resources\\n',\n",
       " '\\t    New File  \\t\\t       0\\tTemporaryGeneratedFile_036C0B5B-1481-4323-8D20-8F5ADCB23D92.cs\\n',\n",
       " '\\t    New File  \\t\\t       0\\tTemporaryGeneratedFile_5937a670-0e60-4077-877b-f7221da3dda1.cs\\n',\n",
       " '\\t    New File  \\t\\t       0\\tTemporaryGeneratedFile_E7A71F73-0F8D-4B9B-B56E-8E70B10BC5D3.cs\\n',\n",
       " '\\t  New Dir          0\\tC:\\\\RegularExpressionsWithDotNet\\\\robocopytest\\\\source\\\\obj\\\\Debug\\\\TempPE\\\\\\n',\n",
       " '\\t  New Dir          5\\tC:\\\\RegularExpressionsWithDotNet\\\\robocopytest\\\\source\\\\Properties\\\\\\n',\n",
       " '\\t    New File  \\t\\t    1438\\tAssemblyInfo.cs\\n',\n",
       " '\\t    New File  \\t\\t    2856\\tResources.Designer.cs\\n',\n",
       " '\\t    New File  \\t\\t    5612\\tResources.resx\\n',\n",
       " '\\t    New File  \\t\\t    1100\\tSettings.Designer.cs\\n',\n",
       " '\\t    New File  \\t\\t     249\\tSettings.settings\\n',\n",
       " '\\n',\n",
       " '------------------------------------------------------------------------------\\n',\n",
       " '\\n',\n",
       " '               Total    Copied   Skipped  Mismatch    FAILED    Extras\\n',\n",
       " '    Dirs :         7         6         1         0         0         0\\n',\n",
       " '   Files :        29        29         0         0         0         0\\n',\n",
       " '   Bytes :    133567    133567         0         0         0         0\\n',\n",
       " '   Times :   0:00:00   0:00:00                       0:00:00   0:00:00\\n',\n",
       " '\\n',\n",
       " '\\n',\n",
       " '   Speed :             8904466 Bytes/sec.\\n',\n",
       " '   Speed :             509.517 MegaBytes/min.\\n',\n",
       " '   Ended : Sunday, May 1, 2016 1:59:16 PM\\n',\n",
       " '\\n']"
      ]
     },
     "execution_count": 18,
     "metadata": {},
     "output_type": "execute_result"
    }
   ],
   "source": [
    "with open(successful_log,'r',encoding='utf-8') as log:\n",
    "    data = log.readlines() #return the list \n",
    "    #data_successful = log.read() #if no n is specified read entire file\n",
    "    \n",
    "#print(type(data))\n",
    "#print(type(data_successful))\n",
    "data\n"
   ]
  },
  {
   "cell_type": "code",
   "execution_count": 26,
   "metadata": {
    "scrolled": false
   },
   "outputs": [
    {
     "name": "stdout",
     "output_type": "stream",
     "text": [
      "Dirs :\n",
      "7\n",
      "6\n",
      "1\n",
      "0\n",
      "0\n",
      "0\n",
      "Files :\n",
      "29\n",
      "29\n",
      "0\n",
      "0\n",
      "0\n",
      "0\n",
      "Bytes :\n",
      "133567\n",
      "133567\n",
      "0\n",
      "0\n",
      "0\n",
      "0\n"
     ]
    }
   ],
   "source": [
    "findPattern = re.compile(r'(?im)(?P<type>(Dirs|Files|Bytes)\\s+:)\\s+(?P<total>\\d+)\\s+(?P<copied>\\d+)\\s+(?P<skipped>\\d+)\\s+(?P<mismatch>\\d+)\\s+(?P<failed>\\d+)\\s+(?P<extras>\\d+)')\n",
    "#print(findPattern.findall(data_successful))\n",
    "\n",
    "\n",
    "\n",
    "matches = findPattern.finditer(data_successful)\n",
    "for match in matches:\n",
    "    print(match.group('type'))\n",
    "    print(match.group('total'))\n",
    "    print(match.group('copied'))\n",
    "    print(match.group('skipped'))\n",
    "    print(match.group('mismatch'))\n",
    "    print(match.group('failed'))\n",
    "    print(match.group('extras'))"
   ]
  },
  {
   "cell_type": "code",
   "execution_count": 44,
   "metadata": {},
   "outputs": [
    {
     "name": "stdout",
     "output_type": "stream",
     "text": [
      "dict_items([('type', 'Dirs :'), ('total', '7'), ('copied', '6'), ('skipped', '1'), ('mismatch', '0'), ('failed', '0'), ('extras', '0')])\n",
      "dict_items([('type', 'Files :'), ('total', '29'), ('copied', '29'), ('skipped', '0'), ('mismatch', '0'), ('failed', '0'), ('extras', '0')])\n",
      "dict_items([('type', 'Bytes :'), ('total', '133567'), ('copied', '133567'), ('skipped', '0'), ('mismatch', '0'), ('failed', '0'), ('extras', '0')])\n"
     ]
    }
   ],
   "source": [
    "#Another aprroach\n",
    "findPattern =\\\n",
    "r'(?i)(?P<type>(Dirs|Files|Bytes)\\s+:)\\s+' \\\n",
    "r'(?P<total>\\d+)\\s+(?P<copied>\\d+)\\s+'\\\n",
    "r'(?P<skipped>\\d+)\\s+(?P<mismatch>\\d+)\\s+'\\\n",
    "r'(?P<failed>\\d+)\\s+(?P<extras>\\d+)'\n",
    "with open(successful_log,'r',encoding='utf-8') as log:\n",
    "    for line in log:\n",
    "        matches = re.search(findPattern, line)\n",
    "        \n",
    "        if matches:\n",
    "            match = matches.groupdict().items()\n",
    "            print(match)\n"
   ]
  },
  {
   "cell_type": "code",
   "execution_count": 58,
   "metadata": {},
   "outputs": [],
   "source": [
    "class logMatrix:\n",
    "    'to capture the output from log file'\n",
    "    def __init__(self):\n",
    "        'keep all the global variable'\n",
    "        self.logFileName = ''\n",
    "        self.directory = {}\n",
    "        self.matrics = [] \n",
    "        self.error = False #indicate if there is an errorwhile logging\n",
    "        self.errorMessage = '' #keep error message"
   ]
  },
  {
   "cell_type": "code",
   "execution_count": 67,
   "metadata": {},
   "outputs": [],
   "source": [
    "# http://stackoverflow.com/questions/3768895/how-to-make-a-class-json-serializable\n",
    "class MyEncoder(JSONEncoder):\n",
    "    def default(self, o):\n",
    "        return o.__dict__ "
   ]
  },
  {
   "cell_type": "code",
   "execution_count": 73,
   "metadata": {},
   "outputs": [],
   "source": [
    "def processRoboCopyLog(fileList):\n",
    "    'Design the regex pattern and extract data from log file, as we are reading single line so m tag will be removed'\n",
    "    # To Capture Directory Name\n",
    "    patternDirectoryName = re.compile(r'(?i)^\\s+(?P<type>Source|Dest)\\s:\\s(?P<dir>[A-Z]:\\S+\\b)')\n",
    "    \n",
    "    # To Capture Error\n",
    "    patternError = re.compile(r'(?i)(?P<ts>\\d{4}(/\\d{2}){2}\\s+(\\d{2}:){2}\\d+)\\s+ERROR\\s+(?P<error>\\d+\\s+\\S+(\\s+\\w+)+:(\\\\\\w+)+)')\n",
    "    \n",
    "    #To Capture Pattern_matrix\n",
    "    patternMatrix =  \\\n",
    "r'(?i)(?P<type>(Dirs|Files|Bytes)\\s+:)\\s+' \\\n",
    "r'(?P<total>\\d+)\\s+(?P<copied>\\d+)\\s+'\\\n",
    "r'(?P<skipped>\\d+)\\s+(?P<mismatch>\\d+)\\s+'\\\n",
    "r'(?P<failed>\\d+)\\s+(?P<extras>\\d+)'\n",
    "    \n",
    "    \n",
    "    #Iterate over all file and create instance of class for each file\n",
    "    for fileName in fileList:\n",
    "        logMatrixInst = logMatrix()\n",
    "        logMatrixInst.logFileName = fileName\n",
    "        \n",
    "        with open(fileName, 'r', encoding='utf-8') as log:\n",
    "            # 'reading each line'\n",
    "            for line in log:\n",
    "                # looking for any error in file\n",
    "                match = patternError.search(line)\n",
    "                \n",
    "                if match:\n",
    "                    logMatrixInst.error = True\n",
    "                    logMatrixInst.errorMessage= line\n",
    "                \n",
    "                \n",
    "                #capturing directory name \n",
    "                match = patternDirectoryName.search(line)\n",
    "                \n",
    "                if match :\n",
    "                    logMatrixInst.directory[match.group('type')] = match.group('dir')\n",
    "                    \n",
    "                #Capturing the dataMatrics\n",
    "                match = re.search(patternMatrix,line)\n",
    "                \n",
    "                if match :\n",
    "                    matrixRow=[]\n",
    "                    matrixHeader=[]\n",
    "                    captureHeader=False\n",
    "                    \n",
    "                    if len(logMatrixInst.matrics) == 0:\n",
    "                        captureHeader = True\n",
    "                    \n",
    "                    for key, value in match.groupdict().items():\n",
    "                        #Header file come only once\n",
    "                        if captureHeader:\n",
    "                            matrixHeader.append(key)\n",
    "                        matrixRow.append(value)\n",
    "                    if captureHeader == True:\n",
    "                        logMatrixInst.matrics.append(matrixHeader)\n",
    "                    logMatrixInst.matrics.append(matrixRow)\n",
    "            with open(fileName+'.json' ,'w',encoding='utf-8') as wr:\n",
    "                json.dump(logMatrixInst, wr, ensure_ascii=False, cls = MyEncoder, indent=True)\n",
    "                \n",
    "    return   \n",
    "        \n",
    "        "
   ]
  },
  {
   "cell_type": "code",
   "execution_count": 74,
   "metadata": {},
   "outputs": [
    {
     "name": "stdout",
     "output_type": "stream",
     "text": [
      "Elapsed Time  : 0.003380298614501953\n"
     ]
    }
   ],
   "source": [
    "fileList= [error_log, successful_log]\n",
    "\n",
    "startTime= time.time()\n",
    "processRoboCopyLog(fileList)\n",
    "endTime = time.time()\n",
    "\n",
    "print('Elapsed Time  :', endTime-startTime)"
   ]
  },
  {
   "cell_type": "code",
   "execution_count": null,
   "metadata": {},
   "outputs": [],
   "source": []
  },
  {
   "cell_type": "code",
   "execution_count": null,
   "metadata": {},
   "outputs": [],
   "source": []
  }
 ],
 "metadata": {
  "kernelspec": {
   "display_name": "Python 3",
   "language": "python",
   "name": "python3"
  },
  "language_info": {
   "codemirror_mode": {
    "name": "ipython",
    "version": 3
   },
   "file_extension": ".py",
   "mimetype": "text/x-python",
   "name": "python",
   "nbconvert_exporter": "python",
   "pygments_lexer": "ipython3",
   "version": "3.7.6"
  }
 },
 "nbformat": 4,
 "nbformat_minor": 4
}
