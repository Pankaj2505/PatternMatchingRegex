{
 "cells": [
  {
   "cell_type": "code",
   "execution_count": 1,
   "metadata": {},
   "outputs": [],
   "source": [
    "import re\n",
    "import os\n",
    "import time\n",
    "import datetime"
   ]
  },
  {
   "cell_type": "markdown",
   "metadata": {},
   "source": [
    "# Step 1\n",
    "```\n",
    "Network Configuration Parser\n",
    "Network Configuration Parser\n",
    "In this exercise, you will implement a regular expression pattern to parse and extract network configuration data.\n",
    "\n",
    "I want to thank Girish U for providing this example problem.\n",
    "\n",
    "Answer is in the next lecture.\n",
    "\n",
    "Problem\n",
    "The input data consists of a network interface detail spanning multiple lines.\n",
    "\n",
    "In the below example, we have two interface entries. Assume that each interface can have at most two IP address rows.\n",
    "\n",
    "Use the following group names: interface, vrf, ip, bytes, duration\n",
    "\n",
    "Sample Input\n",
    "interface Gi1/0/1\n",
    "vrf red\n",
    "ip address 1.1.1.1 255.255.255.0\n",
    "ip address secondary 2.2.2.2 255.255.255.0\n",
    "interface Gi1/0/2\n",
    "vrf blue\n",
    "ip address 3.3.3.3 255.255.255.0\n",
    "Expected Output\n",
    "You need to write a pattern to extract details of an interface\n",
    "\n",
    "Hint: \\s character class can match newlines\n",
    "\n",
    "First Match:\n",
    "'interface': 'Gi1/0/1'\n",
    "'vrf': 'red'\n",
    "'ip': '1.1.1.1 255.255.255.0'\n",
    "'ip2': '2.2.2.2 255.255.255.0'\n",
    " \n",
    "Second Match:\n",
    "'interface': 'Gi1/0/2'\n",
    "'vrf': 'blue'\n",
    "'ip': '3.3.3.3 255.255.255.0'\n",
    "'ip2': None\n",
    "\n",
    "```"
   ]
  },
  {
   "cell_type": "code",
   "execution_count": 12,
   "metadata": {},
   "outputs": [
    {
     "name": "stdout",
     "output_type": "stream",
     "text": [
      "C:\\Users\\PankajBhatt\\Desktop\\Applied AI\\PatternMatching\\DataSet\\unicode\n",
      "['.git', '.gitattributes', '.idea', '.ipynb_checkpoints', 'DataSet', 'README.md', 'Study_Notes', 'workings', '_config.yml']\n",
      "C:\\Users\\PankajBhatt\\Desktop\\Applied AI\\PatternMatching\\DataSet\\unicode\n",
      "['TestFile.txt', 'TestUnicodeFile.txt']\n"
     ]
    }
   ],
   "source": [
    "print(os.getcwd())\n",
    "os.chdir(r'C:\\Users\\PankajBhatt\\Desktop\\Applied AI\\PatternMatching')\n",
    "print(os.listdir())\n",
    "os.chdir(r'C:\\Users\\PankajBhatt\\Desktop\\Applied AI\\PatternMatching\\DataSet\\unicode')\n",
    "print(os.getcwd())\n",
    "print(os.listdir())\n",
    "unicode = os.path.abspath(r'C:\\Users\\PankajBhatt\\Desktop\\Applied AI\\PatternMatching\\DataSet\\unicode\\TestUnicodeFile.txt')"
   ]
  },
  {
   "cell_type": "markdown",
   "metadata": {},
   "source": [
    "### Print Only non english \n"
   ]
  },
  {
   "cell_type": "code",
   "execution_count": 33,
   "metadata": {},
   "outputs": [
    {
     "name": "stdout",
     "output_type": "stream",
     "text": [
      "apple 1 grows on apple tree\n",
      "\n",
      "apple\n",
      "\n",
      "1\n",
      "\n",
      "grows\n",
      "\n",
      "on\n",
      "\n",
      "apple\n",
      "\n",
      "tree\n",
      "\n",
      "\n",
      "apple 2 grows on apple tree\n",
      "\n",
      "apple\n",
      "\n",
      "2\n",
      "\n",
      "grows\n",
      "\n",
      "on\n",
      "\n",
      "apple\n",
      "\n",
      "tree\n",
      "\n",
      "\n",
      "third line\n",
      "\n",
      "third\n",
      "\n",
      "line\n",
      "\n",
      "\n",
      "தமிழ் Tamil, Hindi हिन्दी, Japanese日本語,  1234.\n",
      "தம\n",
      "\n",
      "ழ\n",
      "\n",
      "\n",
      "Tamil\n",
      "\n",
      "\n",
      "Hindi\n",
      "\n",
      "ह\n",
      "\n",
      "न\n",
      "\n",
      "द\n",
      "\n",
      "\n",
      "\n",
      "Japanese日本語\n",
      "\n",
      "\n",
      "\n",
      "1234\n",
      "\n",
      "\n"
     ]
    }
   ],
   "source": [
    "pattern = r'(?i)\\w*'\n",
    "with  open(unicode,'r',encoding='utf-8') as rdr:\n",
    "    for line in rdr.readlines():\n",
    "        print(line)\n",
    "        matches = re.finditer(pattern , line)\n",
    "        for match in matches:\n",
    "            print(match.group(0))"
   ]
  },
  {
   "cell_type": "code",
   "execution_count": 16,
   "metadata": {},
   "outputs": [
    {
     "data": {
      "text/plain": [
       "'apple 1 grows on apple tree\\napple 2 grows on apple tree\\nthird line\\nதமிழ் Tamil, Hindi हिन्दी, Japanese日本語,  1234.'"
      ]
     },
     "execution_count": 16,
     "metadata": {},
     "output_type": "execute_result"
    }
   ],
   "source": [
    "for "
   ]
  },
  {
   "cell_type": "code",
   "execution_count": null,
   "metadata": {},
   "outputs": [],
   "source": []
  }
 ],
 "metadata": {
  "kernelspec": {
   "display_name": "Python 3",
   "language": "python",
   "name": "python3"
  },
  "language_info": {
   "codemirror_mode": {
    "name": "ipython",
    "version": 3
   },
   "file_extension": ".py",
   "mimetype": "text/x-python",
   "name": "python",
   "nbconvert_exporter": "python",
   "pygments_lexer": "ipython3",
   "version": "3.7.6"
  }
 },
 "nbformat": 4,
 "nbformat_minor": 4
}
