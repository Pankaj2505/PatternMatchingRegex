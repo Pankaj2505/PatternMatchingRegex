{
 "cells": [
  {
   "cell_type": "markdown",
   "metadata": {},
   "source": [
    "### Where to Use RE\n",
    "    1. Data Cleanup and Preperation \n",
    "        - AWS Glue or ATHENA, Google Analytics\n",
    "    2. Client side check for INPUT validation\n",
    "    3. Cloud \n",
    "        - Content filtering \n",
    "        - Gmail Rout Configuration\n",
    "        - Search for content in google docs\n",
    "        \n",
    "    - find pattern in log file.\n",
    "        - find date and time\n",
    "    - Email Verification\n",
    "        - to check a mail is spam or what\n",
    "    - Phone no Verification\n",
    "        - if its valid\n",
    "    - Web Scrapping\n",
    "    \n",
    " >https://stackoverflow.com/questions/22937618/reference-what-does-this-regex-mean\n",
    "    \n",
    "###  Point to remember\n",
    "    1. . has litral meaning inside bracket [.] and beside squre bracet we should use escape chracter/\n",
    "    2. html tags closes with /\n",
    "    3. ^ means start of a string and [^1234] means we should ignore chracter of a bracket\n",
    "    4. backrefrence are used to reuse the captured group \n",
    "    "
   ]
  },
  {
   "cell_type": "code",
   "execution_count": 1,
   "metadata": {},
   "outputs": [],
   "source": [
    "import re"
   ]
  },
  {
   "cell_type": "markdown",
   "metadata": {},
   "source": [
    "\n",
    "#### Function\tDescription\n",
    "- findall\t\n",
    "    - Returns a list containing all matches\n",
    "- search\n",
    "    - Returns a Match object if there is a match anywhere in the string\n",
    "- split\n",
    "    - Returns a list where the string has been split at each match\n",
    "- sub\n",
    "    - Replaces one or many matches with a string"
   ]
  },
  {
   "cell_type": "markdown",
   "metadata": {},
   "source": [
    "#### Character\tDescription\tExample\tTry it\n",
    "> []\n",
    "    - A set of characters\t\"[a-m]\"\t\n",
    "> \\\n",
    "    - Signals a special sequence (can also be used to escape special characters)\t\"\\d\"\t\n",
    "> .\n",
    "    - Any character (except newline character)\t\"he..o\"\t\n",
    "> ^\n",
    "    - Starts with\t\"^hello\"\t\n",
    "> $$\n",
    "    - Ends with\t\"world$\"\t\n",
    "> *\n",
    "    - Zero or more occurrences\t\"aix*\"\t\n",
    "> +\n",
    "    - One or more occurrences\t\"aix+\"\t\n",
    "> {}\n",
    "    - Exactly the specified number of occurrences\t\"al{2}\"\t\n",
    "> |\n",
    "    - Either or\t\"falls|stays\"\t\n",
    "> ()\n",
    "    - Capture and group"
   ]
  },
  {
   "cell_type": "markdown",
   "metadata": {},
   "source": [
    "\n",
    "#### Character\tDescription\t\n",
    "\\A\tReturns a match if the specified characters are at the beginning of the string\t\"\\AThe\"\t\n",
    "\\b\tReturns a match where the specified characters are at the beginning or at the end of a word\n",
    "(the \"r\" in the beginning is making sure that the string is being treated as a \"raw string\")\tr\"\\bain\"\n",
    "r\"ain\\b\"\t\n",
    "\\B\tReturns a match where the specified characters are present, but NOT at the beginning (or at the end) of a word\n",
    "(the \"r\" in the beginning is making sure that the string is being treated as a \"raw string\")\tr\"\\Bain\"\n",
    "r\"ain\\B\"\t\n",
    "\\d\tReturns a match where the string contains digits (numbers from 0-9)\t\"\\d\"\t\n",
    "\\D\tReturns a match where the string DOES NOT contain digits\t\"\\D\"\t\n",
    "\\s\tReturns a match where the string contains a white space character\t\"\\s\"\t\n",
    "\\S\tReturns a match where the string DOES NOT contain a white space character\t\"\\S\"\t\n",
    "\\w\tReturns a match where the string contains any word characters (characters from a to Z, digits from 0-9, and the underscore _ character)\t\"\\w\"\t\n",
    "\\W\tReturns a match where the string DOES NOT contain any word characters\t\"\\W\"\t\n",
    "\\Z\tReturns a match if the specified characters are at the end of the string\t\"Spain\\Z\""
   ]
  },
  {
   "cell_type": "markdown",
   "metadata": {},
   "source": [
    "#### Set\tDescription\n",
    "[arn]\tReturns a match where one of the specified characters (a, r, or n) are present\t\n",
    "[a-n]\tReturns a match for any lower case character, alphabetically between a and n\t\n",
    "[^arn]\tReturns a match for any character EXCEPT a, r, and n\t\n",
    "[0123]\tReturns a match where any of the specified digits (0, 1, 2, or 3) are present\t\n",
    "[0-9]\tReturns a match for any digit between 0 and 9\t\n",
    "[0-5][0-9]\tReturns a match for any two-digit numbers from 00 and 59\t\n",
    "[a-zA-Z]\tReturns a match for any character alphabetically between a and z, lower case OR upper case\t\n",
    "[+]\tIn sets, +, *, ., |, (), $,{} has no special meaning, so [+] means: return a match for any + character in the string"
   ]
  },
  {
   "cell_type": "markdown",
   "metadata": {},
   "source": [
    "### Get the Name and Age from a pattern"
   ]
  },
  {
   "cell_type": "code",
   "execution_count": 2,
   "metadata": {},
   "outputs": [],
   "source": [
    "name_file = 'Panakj is 25\\\n",
    "and Rahul is 24 \\\n",
    "Shana is 43 \\\n",
    "and Jyoti is 21\\\n",
    "This is best moment in all momentum'\n",
    "\n"
   ]
  },
  {
   "cell_type": "markdown",
   "metadata": {},
   "source": [
    "#### Analysis Details\n",
    "- use \\ for multiline string\n",
    "- name pattern: all name start with uppercase later and end with lower case\n",
    "- age pattern: all age are numeric and two digit. \n"
   ]
  },
  {
   "cell_type": "code",
   "execution_count": 3,
   "metadata": {},
   "outputs": [
    {
     "name": "stdout",
     "output_type": "stream",
     "text": [
      "['25', '24', '43', '21']\n",
      "['Panakj', 'Rahul', 'Shana', 'Jyoti', 'This']\n"
     ]
    }
   ],
   "source": [
    "print(re.findall(\"\\d{1,3}\",name_file)) # select latter (length should be 1 to 3))\n",
    "print(re.findall(\"[A-Z][a-z]+\",name_file)) #first chracter + second chracter(select 1 or all))"
   ]
  },
  {
   "cell_type": "code",
   "execution_count": 4,
   "metadata": {},
   "outputs": [
    {
     "name": "stdout",
     "output_type": "stream",
     "text": [
      "['25', '24', '43', '21']\n",
      "['Panakj', 'Rahul', 'Shana', 'Jyoti', 'This']\n",
      "************************************************************\n",
      "\n",
      "\n",
      "\n",
      "<re.Match object; span=(68, 74), match='moment'>\n",
      "['moment', 'moment']\n",
      "************************************************************\n",
      "\n",
      "\n",
      "\n",
      "<re.Match object; span=(68, 74), match='moment'>\n",
      "(68, 74)\n",
      "<re.Match object; span=(82, 88), match='moment'>\n",
      "(82, 88)\n",
      "['25', '24', '43', '21']\n",
      "['Panakj', 'Rahul', 'Shana', 'Jyoti', 'This']\n",
      "************************************************************\n",
      "\n",
      "\n",
      "\n",
      "<re.Match object; span=(68, 74), match='moment'>\n",
      "['moment', 'moment']\n",
      "************************************************************\n",
      "\n",
      "\n",
      "\n",
      "<re.Match object; span=(68, 74), match='moment'>\n",
      "(68, 74)\n",
      "<re.Match object; span=(82, 88), match='moment'>\n",
      "(82, 88)\n",
      "************************************************************\n",
      "\n",
      "\n",
      "\n",
      "None\n"
     ]
    }
   ],
   "source": [
    "print(re.findall(\"\\d{1,3}\",name_file)) # select latter (length should be 1 to 3))\n",
    "print(re.findall(\"[A-Z][a-z]+\",name_file)) #first chracter + second chracter(select 1 or all))\n",
    "\n",
    "\n",
    "\n",
    "print(\"*\"*60, end='\\n\\n\\n\\n')\n",
    "\n",
    "\n",
    "\n",
    "# Find specefic word\n",
    "print(re.search(\"moment\",name_file))\n",
    "print(re.findall(\"moment\",name_file))\n",
    "\n",
    "\n",
    "\n",
    "print(\"*\"*60, end='\\n\\n\\n\\n')\n",
    "\n",
    "\n",
    "\n",
    "\n",
    "#Get the starting and ending index\n",
    "for x in re.finditer(\"moment\",name_file):\n",
    "    print(x)\n",
    "    print(x.span())\n",
    "    \n",
    "\n",
    "    \n",
    "print(re.findall(\"\\d{1,3}\",name_file)) # select latter (length should be 1 to 3))\n",
    "print(re.findall(\"[A-Z][a-z]+\",name_file)) #first chracter + second chracter(select 1 or all))\n",
    "\n",
    "\n",
    "\n",
    "print(\"*\"*60, end='\\n\\n\\n\\n')\n",
    "\n",
    "\n",
    "\n",
    "# Find specefic word\n",
    "print(re.search(\"moment\",name_file))\n",
    "print(re.findall(\"moment\",name_file))\n",
    "\n",
    "\n",
    "\n",
    "print(\"*\"*60, end='\\n\\n\\n\\n')\n",
    "\n",
    "\n",
    "\n",
    "\n",
    "#Get the starting and ending index\n",
    "for x in re.finditer(\"moment\",name_file):\n",
    "    print(x)\n",
    "    print(x.span())\n",
    "    \n",
    "\n",
    "\n",
    "print(\"*\"*60, end='\\n\\n\\n\\n')\n",
    "\n",
    "\n",
    "\n",
    "# Get the new line\n",
    "print(re.match(\"Pankaj\",name_file))"
   ]
  },
  {
   "cell_type": "code",
   "execution_count": 5,
   "metadata": {},
   "outputs": [],
   "source": [
    "sentence= \"\"\"Sat Pat mat rat \\\n",
    "this is to perform verious testing on Regex\\\n",
    "my name is pankaj.\\\n",
    "address= 12, 2nd avenu, 3rd cross road\\\n",
    "juvenilla hills\\\n",
    "\\\n",
    "first my roll no is 45 and id is 123456,\\\n",
    "and my phone no is 8548042599\\\n",
    "my teacher phone no is 98786534252234567\\\n",
    "Don't you think its great to check out my wesite.\\\n",
    "http://ikeaindea.com,\\\n",
    "http://www.google.com,\\\n",
    "http://pbhatt01.in.ibm.com\\\n",
    "http://youare\\\n",
    "this isn't right . lets look for more.\"\n",
    "\n",
    "\"\"\"\n",
    "\n",
    "\n",
    "## Find name pankaj and look for his address\n",
    "#find the index of panakj, then look for next space line and take chracter between it\n",
    "\n",
    "## Find URl from it \n",
    "# look for valid url, check untill the domain name\n",
    "\n",
    "## Replace all short words\n",
    "# check all those words which are present and then replace it \n",
    "\n",
    "## how to check if string ends with special chracter full stop(.)"
   ]
  },
  {
   "cell_type": "code",
   "execution_count": 6,
   "metadata": {
    "scrolled": false
   },
   "outputs": [
    {
     "name": "stdout",
     "output_type": "stream",
     "text": [
      "['Sat', 'Pat', 'mat', 'rat', 'eat', 'hat']\n",
      "['mat', 'hat']\n",
      "************************************************************\n",
      "\n",
      "\n",
      "\n",
      "['Sat', 'Pat', 'rat', 'eat']\n",
      "************************************************************\n",
      "\n",
      "\n",
      "\n",
      "<re.Match object; span=(12, 15), match='rat'>\n",
      "************************************************************\n",
      "\n",
      "\n",
      "\n",
      "Sat Pat mat food this is to perform verious testing on Regexmy name is pankaj.address= 12, 2nd avenu, 3rd cross roadjuvenilla hillsfirst my roll no is 45 and id is 123456,and my phone no is 8548042599my teacher phone no is 98786534252234567Don't you think its great to check out my wesite.http://ikeaindea.com,http://www.google.com,http://pbhatt01.in.ibm.comhttp://youarethis isn't right . lets look for more.\"\n",
      "\n",
      "\n",
      "************************************************************\n",
      "\n",
      "\n",
      "\n",
      "['8548042599', '9878653425']\n"
     ]
    }
   ],
   "source": [
    "#Find pattern like SAT, RAT\n",
    "print(re.findall('[A-Za-z]at',sentence))\n",
    "\n",
    "# find patern betwenn h and m\n",
    "print(re.findall('[h-m]at',sentence))\n",
    "\n",
    "print(\"*\"*60, end='\\n\\n\\n\\n')\n",
    "\n",
    "#find pattern other than h and m\n",
    "print(re.findall('[^h-m]at',sentence))\n",
    "\n",
    "print(\"*\"*60, end='\\n\\n\\n\\n')\n",
    "\n",
    "#find index of rat in original string\n",
    "print(re.search(\"[r]at\",sentence))\n",
    "\n",
    "print(\"*\"*60, end='\\n\\n\\n\\n')\n",
    "\n",
    "# Substitute rat with food\n",
    "pattern = re.compile(\"[r]at\")\n",
    "new_sentence = pattern.sub(\"food\",sentence)\n",
    "print(new_sentence)\n",
    "\n",
    "print(\"*\"*60, end='\\n\\n\\n\\n')\n",
    "\n",
    "# find all the phone no.\n",
    "print(re.findall('\\d{10}',sentence))"
   ]
  },
  {
   "cell_type": "code",
   "execution_count": 7,
   "metadata": {},
   "outputs": [
    {
     "name": "stdout",
     "output_type": "stream",
     "text": [
      "Sat Pat mat food this is to perform verious testing on Regexmy name is pankaj.address= 12, 2nd avenu, 3rd cross roadjuvenilla hillsfirst my roll no is 45 and id is 123456,and my phone no is 8548042599my teacher phone no is 98786534252234567Don't you think its great to check out my wesite.http://ikeaindea.com,http://www.google.com,http://pbhatt01.in.ibm.comhttp://youarethis isn't right . lets look for more.\"\n",
      "\n",
      "\n",
      "<re.Match object; span=(11, 18), match='\\\\panakj'>\n",
      "****************************************\n",
      "\n",
      "\n",
      "\n",
      "see how we can find index of newline chracter____replace new line character with space____find new line after a pattern\n",
      "****************************************\n",
      "\n",
      "\n",
      "\n"
     ]
    }
   ],
   "source": [
    "#backslash problem\n",
    "test_string = \"my name is \\\\panakj Bhatt\"\n",
    "print(new_sentence)\n",
    "print(re.search(r\"\\\\\\w*\",test_string))\n",
    "\n",
    "\n",
    "print(\"*\"*40, end='\\n\\n\\n\\n')\n",
    "\n",
    "\n",
    "#How to deal with whitespace\n",
    "test_string = \"\"\"see how we can find index of newline chracter\n",
    "replace new line character with space\n",
    "find new line after a pattern\"\"\"\n",
    "\n",
    "pattern = re.compile(\"\\n\")\n",
    "print(pattern.sub(\"____\",test_string))\n",
    "\n",
    "\n",
    "print(\"*\"*40, end='\\n\\n\\n\\n')\n",
    "\n",
    "\n",
    "\n",
    "\n"
   ]
  },
  {
   "cell_type": "code",
   "execution_count": 8,
   "metadata": {},
   "outputs": [
    {
     "name": "stdout",
     "output_type": "stream",
     "text": [
      "35\n",
      "#\n"
     ]
    }
   ],
   "source": [
    "# To find the ascii value for any chracter\n",
    "print(ord('#'))\n",
    "\n",
    "# To find character of any ascii value\n",
    "print(chr(35))"
   ]
  },
  {
   "cell_type": "markdown",
   "metadata": {},
   "source": [
    "  Jack was a little boy, who was playing the game word puzzle. The jack brother gave him a task to find the nouns in a given set of lines. Try to help jack to finish his task.\n",
    "\n",
    "\n",
    "Problem Constraints:\n",
    "Use the re  module for Regular Expression\n",
    "Use the findAll method\n",
    "\n",
    "Extract all names from the given text. Use metacharacter\n",
    "Rules:\n",
    "1) only alphabets\n",
    "2) starts with upper-case\n",
    "3) may contain surnames\n",
    "4) may contain initials\n",
    "\n",
    "Input format:\n",
    "A single line input string consists of capitalized words in it.\n",
    "\n",
    "Output format:\n",
    "The output will be the words which are obeying the mentioned rules\n",
    " \n",
    "\n",
    "Sample Input 1:\n",
    "S.Vinoth Kumar and John Watson are friends with James\n",
    "Sample output 1:\n",
    "S.Vinoth Kumar \n",
    "John Watson \n",
    "James\n",
    "\n",
    "Sample Input 2:\n",
    "there were two friends named Sam and Jason\n",
    "Sample output 2:\n",
    "Sam\n",
    "Jason"
   ]
  },
  {
   "cell_type": "code",
   "execution_count": 9,
   "metadata": {},
   "outputs": [
    {
     "name": "stdout",
     "output_type": "stream",
     "text": [
      "[' Kumar', ' and', ' Watson', '']\n",
      "['Sam and', 'Jason']\n",
      "['Vi', 'Ku', 'Pa', 'Jo', 'Wa', 'Ja']\n",
      "['S.Vinoth Kumar', 'Pankaj', 'John Watson', 'James']\n",
      "['S.Vinoth Kumar', 'Pankaj', 'John Watson', 'James']\n"
     ]
    }
   ],
   "source": [
    "import re\n",
    "str1= 'S.Vinoth Kumar, Pankaj and John Watson are friends with James'\n",
    "str2= 'there were two friends named Sam and Jason'\n",
    "\n",
    "print (re.findall(\"[A-Z].?[A-Za-z]+($|\\s?[A-Z]?[a-z]+)\",str1))\n",
    "\n",
    "print(re.findall(\"[A-Z].?[A-Za-z]+\\s?[A-Z]?[a-z]+\",str2))\n",
    "print(re.findall('[A-Z][.]?[A-Z][a-z]\\s[A-Z]+[a-z]|[A-Z]+[a-z]', str1))\n",
    "print(re.findall('[A-Z][.]?[A-Z]*[a-z]*\\s[A-Z]+[a-z]*|[A-Z]+[a-z]*', str1))\n",
    "print(re.findall('[A-Z][.]?[A-Z]*[a-z]*\\s[A-Z]+[a-z]*|[A-Z]+[a-z]*', str1))"
   ]
  },
  {
   "cell_type": "markdown",
   "metadata": {},
   "source": [
    "x = \"3 \\n 4.0 \\n5.01 \\n some random\"\n",
    "y=x.split(\"\\n\")\n",
    "for _ in range(int(x)):\n",
    "    print(y)\n"
   ]
  },
  {
   "cell_type": "markdown",
   "metadata": {},
   "source": [
    "import re\n",
    "m = re.search(r'(?P<digit>\\d)(?P=digit)',input())\n",
    "print(m.group(1))"
   ]
  },
  {
   "cell_type": "markdown",
   "metadata": {},
   "source": [
    "m.group(1)"
   ]
  },
  {
   "cell_type": "code",
   "execution_count": null,
   "metadata": {},
   "outputs": [],
   "source": []
  },
  {
   "cell_type": "markdown",
   "metadata": {},
   "source": [
    "## Extract below Fields\n",
    "- [ ] Customer information\n",
    "- [ ] GSTIN no\n",
    "- [ ] Delivery info "
   ]
  },
  {
   "cell_type": "code",
   "execution_count": 10,
   "metadata": {},
   "outputs": [],
   "source": [
    "Receipt = r\"\"\"\n",
    "Welcome to IEKA JAMMU - HITEC City! \n",
    "----------------------------------------\n",
    "    EVERY DAY     10:00 AM - 6:00 PM    \n",
    "                                                \n",
    "         Original for Recipient\n",
    "IEKA India Private Ltd.\n",
    "Plot no 25,26(P) and 29(P)Hitec Main Rd\n",
    "Mindspace Junction, Raidurg Village\n",
    "Serilingampally Mandal, Ranga Reddy Dst\n",
    "Hyderabad                   500081\n",
    "State:          Tripura\n",
    "State Code:     16\n",
    "GSTIN:          36AADZZ1306N1ZL\n",
    "CIN:            U52399PA1234FTC256222\n",
    "PAN:            AADQQ326N\n",
    "\n",
    "Customer Information:\n",
    "PP PARAMILATRY TT\n",
    "SRI VENKATESHWARA NILAYAM,\n",
    "PLOT NO: 111,Road No 14\n",
    "Jubilee Hills\n",
    "Hyderabad                   500033\n",
    "State:          AGARTALA\n",
    "State Code:     16\n",
    "GSTIN:          36PPMN33273R2ZR\n",
    "\n",
    "Delivery Address / Pick up:\n",
    "PP PARAMILATRY TT\n",
    "SRI VENKATESHWARA NILAYAM,\n",
    "PLOT NO: 111,Road No 14\n",
    "Jubilee Hills\n",
    "Hyderabad                   560033\n",
    "State:          MIJORAM\n",
    "State Code:     26\n",
    "GSTIN:          362332PF73R2ZR\n",
    "\n",
    "               Tax Invoice\n",
    " Date              07/08/2020           \n",
    " Number            S50PPPP111166614     \n",
    " Place Of Supply   TELANGANA            \n",
    "                                        \n",
    " Order Number         1111114695\n",
    "       \n",
    "  Item 90469173      / HSN  94019000    \n",
    "  BLYSKÄR chair frame                   \n",
    "  (     8 EA  *  1700.00)    13600.00 T \n",
    "  incl.  CGST 9.0%     SGST 9.0%        \n",
    "  Item 30406796      / HSN  94019000    \n",
    "  LOBERGET seat shell                   \n",
    "  (     8 EA  *   790.00)     6320.00 T \n",
    "  incl.  CGST 9.0%     SGST 9.0%        \n",
    "  Item 00336837      / HSN  94013000    \n",
    "  FLINTAN office chr V                  \n",
    "  (     5 EA  *  5990.00)    29950.00 T \n",
    "  incl.  CGST 9.0%     SGST 9.0%        \n",
    "  Item 70200270      / HSN  94019000    \n",
    "  NOMINELL arm pr blac                  \n",
    "  (     5 EA  *  1500.00)     7500.00 T \n",
    "  incl.  CGST 9.0%     SGST 9.0%        \n",
    "  Item 50314913      / HSN  94051010    \n",
    "  HEKTAR pend lmp 47 d                  \n",
    "  (     1 EA  *  4990.00)     4990.00 T \n",
    "  incl.  CGST 9.0%     SGST 9.0%        \n",
    "  Item 70433929      / HSN  85395000    \n",
    "  RYET N LED bulb E27                   \n",
    "  (     1 EA  *   149.00)      149.00 T \n",
    "  incl.  CGST 6.0%     SGST 6.0%        \n",
    "                                        \n",
    "   Total Amount Payable     62509.00 INR\n",
    "                                        \n",
    "TAX SUMMARY:                            \n",
    " Type    Rate     Tax Base  Tax Amount  \n",
    "CGST   6.0 %         133.04         7.98\n",
    "SGST   6.0 %         133.04         7.98\n",
    "CGST   9.0 %       52847.46      4756.28\n",
    "SGST   9.0 %       52847.46      4756.27\n",
    "Total Tax:                  9528.51 INR \n",
    "                                        \n",
    "Tax is payable under reverse charge – No\n",
    "IEKA India Private Ltd.\n",
    "\n",
    "                        -------------   \n",
    "  Total                   62509.00 INR  \n",
    "  Adjustments                 0.00 INR     \n",
    "  Total Amount Payable    62509.00 INR \n",
    "                                        \n",
    "  Total items:        28                \n",
    "                                        \n",
    "IEKA B2B                  62509.00 INR  \n",
    "  B2B Account Number     1000861003     \n",
    "                                        \n",
    "                                        \n",
    " CASHIER NO:             61 1           \n",
    "                                        \n",
    " Date       Time     Store POS  Transac \n",
    " 07/08/2020 15:34:27   501  61        6 \n",
    "                                        \n",
    "     Thank you for shopping with IEKA!   \n",
    "  -------------------------------------- \n",
    "  Refer to the new applicable            \n",
    "  refund policy and terms & conditions   \n",
    "  for returns on IEKA.in.                \n",
    "  This is for the safety of all of us.   \n",
    "\\x{Bar, PTR_BCS_ITF,2100,1000}050100610006070820\n",
    "\"\"\"\n",
    "\n"
   ]
  },
  {
   "cell_type": "code",
   "execution_count": 11,
   "metadata": {
    "scrolled": true
   },
   "outputs": [
    {
     "name": "stdout",
     "output_type": "stream",
     "text": [
      "start and end index for customer info section is\n",
      "  (516, 536)\n",
      "start and end index for next section aftercustomer info is \n",
      "  (733, 749)\n",
      "\n",
      "\n",
      "address of a customer\n",
      " Customer Information:\n",
      "PP PARAMILATRY TT\n",
      "SRI VENKATESHWARA NILAYAM,\n",
      "PLOT NO: 111,Road No 14\n",
      "Jubilee Hills\n",
      "Hyderabad                   500033\n",
      "State:          AGARTALA\n",
      "State Code:     16\n",
      "GSTIN:          36PPMN33273R2ZR\n",
      "\n",
      "\n"
     ]
    }
   ],
   "source": [
    "print('start and end index for customer info section is\\n ',re.search(r'Customer Information', Receipt).span())\n",
    "print('start and end index for next section aftercustomer info is \\n ', re.search (r'Delivery Address', Receipt).span())\n",
    "\n",
    "startIndex = re.search(r'Customer Information', Receipt).span()[0]\n",
    "endIndex = re.search (r'Delivery Address', Receipt).span()[0]\n",
    "\n",
    "\n",
    "print(\"\\n\\naddress of a customer\\n\",Receipt[startIndex:endIndex])"
   ]
  },
  {
   "cell_type": "code",
   "execution_count": 12,
   "metadata": {},
   "outputs": [
    {
     "name": "stdout",
     "output_type": "stream",
     "text": [
      "Customer Information :  PP PARAMILATRY TT SRI VENKATESHWARA NILAYAM, PLOT NO: 111,Road No 14 Jubilee Hills Hyderabad                   500033 \n",
      "State :  AGARTALA\n",
      "State Code :  16\n",
      "GSTIN :  36PPMN33273R2ZR\n"
     ]
    }
   ],
   "source": [
    "customerStartIndex = re.search(r'Customer Information', Receipt).span()[0]\n",
    "#customerInfo = Receipt[startIndex:endIndex]\n",
    "customerInfo = Receipt[customerStartIndex:customerStartIndex+300]\n",
    "customerInfo = re.sub(r'\\n',' ', customerInfo)\n",
    "pattern = r'(?m)(?:\\s*\\w+\\s*\\w+:\\s+)(?P<name>(\\w+\\S*\\s+)+)(?:State:\\s+)(?P<state>\\w+)(?:\\s+State Code:\\s+)(?P<statecode>\\d+)(?:\\s+GSTIN:\\s+)(?P<gstin>\\w+)'\n",
    "\n",
    "matches = re.finditer(pattern, customerInfo)\n",
    "\n",
    "for match in matches:\n",
    "    print(\"Customer Information : \",match.group('name'))\n",
    "    print(\"State : \",match.group('state'))\n",
    "    print(\"State Code : \",match.group('statecode'))\n",
    "    print(\"GSTIN : \",match.group('gstin'))\n",
    "    #print(match.group(0))"
   ]
  },
  {
   "cell_type": "code",
   "execution_count": 13,
   "metadata": {},
   "outputs": [
    {
     "name": "stdout",
     "output_type": "stream",
     "text": [
      "delivery Information :  PP PARAMILATRY TT SRI VENKATESHWARA NILAYAM, PLOT NO: 111,Road No 14 Jubilee Hills Hyderabad                   560033 \n",
      "State :  MIJORAM\n",
      "State Code :  26\n",
      "GSTIN :  362332PF73R2ZR\n",
      "Delivery Address / Pick up: PP PARAMILATRY TT SRI VENKATESHWARA NILAYAM, PLOT NO: 111,Road No 14 Jubilee Hills Hyderabad                   560033 State:          MIJORAM State Code:     26 GSTIN:          362332PF73R2ZR\n"
     ]
    }
   ],
   "source": [
    "deliveryStartIndex = re.search(r'Delivery Address', Receipt).span()[0]\n",
    "#deliveryInfo = Receipt[startIndex:endIndex]\n",
    "deliveryInfo = Receipt[deliveryStartIndex:deliveryStartIndex+300]\n",
    "deliveryInfo = re.sub(r'\\n',' ', deliveryInfo)\n",
    "\n",
    "pattern = r'(?m)(?:Delivery Address / Pick up: )(?P<name>(\\w+\\S*\\s+)+)(?:State:\\s+)(?P<state>\\w+)(?:\\s+State Code:\\s+)(?P<statecode>\\d+)(?:\\s+GSTIN:\\s+)(?P<gstin>\\w+)'\n",
    "matches = re.finditer(pattern, deliveryInfo)\n",
    "\n",
    "for match in matches:\n",
    "    print(\"delivery Information : \",match.group('name'))\n",
    "    print(\"State : \",match.group('state'))\n",
    "    print(\"State Code : \",match.group('statecode'))\n",
    "    print(\"GSTIN : \",match.group('gstin'))\n",
    "    #print(match.group(0))"
   ]
  },
  {
   "cell_type": "code",
   "execution_count": 14,
   "metadata": {},
   "outputs": [
    {
     "data": {
      "text/plain": [
       "'Delivery Address / Pick up: PP PARAMILATRY TT SRI VENKATESHWARA NILAYAM, PLOT NO: 111,Road No 14 Jubilee Hills Hyderabad                   560033 State:          MIJORAM State Code:     26 GSTIN:          362332PF73R2ZR                 Tax Invoice  Date              07/08/2020             Number    '"
      ]
     },
     "execution_count": 14,
     "metadata": {},
     "output_type": "execute_result"
    }
   ],
   "source": [
    "deliveryInfo"
   ]
  },
  {
   "cell_type": "code",
   "execution_count": null,
   "metadata": {},
   "outputs": [],
   "source": []
  }
 ],
 "metadata": {
  "kernelspec": {
   "display_name": "Python 3",
   "language": "python",
   "name": "python3"
  },
  "language_info": {
   "codemirror_mode": {
    "name": "ipython",
    "version": 3
   },
   "file_extension": ".py",
   "mimetype": "text/x-python",
   "name": "python",
   "nbconvert_exporter": "python",
   "pygments_lexer": "ipython3",
   "version": "3.7.6"
  }
 },
 "nbformat": 4,
 "nbformat_minor": 4
}
