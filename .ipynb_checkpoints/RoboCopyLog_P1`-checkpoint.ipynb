{
 "cells": [
  {
   "cell_type": "markdown",
   "metadata": {},
   "source": [
    "# Point to remember \n",
    "1. With in square bracket . has litral meaning else where use esacape charater with it"
   ]
  },
  {
   "cell_type": "code",
   "execution_count": 1,
   "metadata": {},
   "outputs": [],
   "source": [
    "import re\n",
    "import os"
   ]
  },
  {
   "cell_type": "markdown",
   "metadata": {},
   "source": [
    "__Question 1__ \n",
    "```\n",
    "In this exercise, you need to look for a currency symbol followed by digits and wrap them in ***.\n",
    "\n",
    "input:\n",
    "\n",
    "movie ticket: $15, popcorn: $8\n",
    "movie ticket: €15, popcorn: €8\n",
    "movie ticket:₹15, popcorn: ₹8\n",
    "output:\n",
    "\n",
    "movie ticket: ***$15***, popcorn: ***$8***\n",
    "movie ticket: ***€15***, popcorn: ***€8***\n",
    "movie ticket: ***₹15***, popcorn: ***₹8***\n",
    "```"
   ]
  },
  {
   "cell_type": "code",
   "execution_count": 2,
   "metadata": {},
   "outputs": [
    {
     "name": "stdout",
     "output_type": "stream",
     "text": [
      "movie ticket: ***$15***, popcorn: ***$8***\n",
      "movie ticket: ***€15***, popcorn: ***€8***\n",
      "movie ticket:***₹15***, popcorn: ***₹8***\n"
     ]
    }
   ],
   "source": [
    "inputText =\"\"\"movie ticket: $15, popcorn: $8\n",
    "movie ticket: €15, popcorn: €8\n",
    "movie ticket:₹15, popcorn: ₹8\"\"\"\n",
    "find_pattern = r'(?m)(?P<price>.\\d+)'\n",
    "replacePattern = '***\\g<price>***'\n",
    "   \n",
    "new_text = re.sub(find_pattern, replacePattern,inputText)\n",
    "print(new_text)\n",
    "\n",
    "\n"
   ]
  },
  {
   "cell_type": "markdown",
   "metadata": {},
   "source": []
  },
  {
   "cell_type": "markdown",
   "metadata": {},
   "source": [
    "__Quetion 2__  \n",
    "```\n",
    "This exercise consists of three parts\n",
    "\n",
    "1. Write a pattern to match one or more digits. In the below text, the pattern should match 1, 123, 12345. However, it should not match ABCD123\n",
    "\n",
    "1\n",
    "123\n",
    "ABCD123\n",
    "12345\n",
    "2. Extend the previous pattern to now match an optional decimal point and two digits. For example, the pattern should match 1234.56 and 57890 but not match 1234A56\n",
    "\n",
    "1234.56\n",
    "57890\n",
    "1234A56\n",
    "3. Extend the pattern from the previous question to now match an optional comma followed by three digits. This optional comma and the 3-digit group can appear as many times as possible.\n",
    "\n",
    "The pattern should now match:\n",
    "\n",
    "123\n",
    "12345.78\n",
    "1,234.78\n",
    "1,234,567.89\n",
    "0.59\n",
    "```"
   ]
  },
  {
   "cell_type": "code",
   "execution_count": 3,
   "metadata": {},
   "outputs": [
    {
     "name": "stdout",
     "output_type": "stream",
     "text": [
      "1 is present at location 0\n",
      "123 is present at location 2\n",
      "12345 is present at location 14\n"
     ]
    }
   ],
   "source": [
    "inputText = \"\"\"1\n",
    "123\n",
    "ABCD123\n",
    "12345\"\"\"\n",
    "\n",
    "\n",
    "findPattern = r'(?m)(?P<num>\\b\\d+\\b)'\n",
    "matchs = re.finditer(findPattern, inputText)\n",
    "for match in matchs:\n",
    "    print(match.group(0), \"is present at location\" , match.start())"
   ]
  },
  {
   "cell_type": "code",
   "execution_count": 4,
   "metadata": {},
   "outputs": [
    {
     "name": "stdout",
     "output_type": "stream",
     "text": [
      "1 is present at location 0\n",
      "123 is present at location 2\n",
      "12345 is present at location 14\n",
      "1234.56 is present at location 20\n",
      "57890 is present at location 28\n"
     ]
    }
   ],
   "source": [
    "inputText = \"\"\"1\n",
    "123\n",
    "ABCD123\n",
    "12345\n",
    "1234.56\n",
    "57890\n",
    "1234A56\"\"\"\n",
    "\n",
    "\n",
    "findPattern =r'(?m)\\b\\d+(\\.\\d{2})?\\b'\n",
    "# r'(?m)(?P<num>\\b\\d+[.]?\\d*$)'\n",
    "matchs = re.finditer(findPattern, inputText)\n",
    "for match in matchs:\n",
    "    print(match.group(0), \"is present at location\" , match.start())"
   ]
  },
  {
   "cell_type": "markdown",
   "metadata": {},
   "source": [
    "__Details__\n",
    "```\n",
    ">  r'(?m)(?P<num>\\b\\d+[.]?\\d*$)'\n",
    "- this is greedy \n",
    "- we can make it lazy also \n",
    ">pattern = r'(?m)(?P<num>\\b\\d+[.]?\\d*?$)'\n",
    "```"
   ]
  },
  {
   "cell_type": "code",
   "execution_count": 5,
   "metadata": {},
   "outputs": [
    {
     "name": "stdout",
     "output_type": "stream",
     "text": [
      "123 is present at location 1\n",
      "12345.78 is present at location 5\n",
      "1,234.78 is present at location 14\n",
      "1,234,567.89 is present at location 23\n",
      "0.59 is present at location 36\n"
     ]
    }
   ],
   "source": [
    "inputText = \"\"\"\n",
    "123\n",
    "12345.78\n",
    "1,234.78\n",
    "1,234,567.89\n",
    "0.59\"\"\"\n",
    "\n",
    "\n",
    "findPattern = r'(?m)\\b\\d+([,]\\d{3})*[.]?\\d*$'\n",
    "matchs = re.finditer(findPattern, inputText)\n",
    "for match in matchs:\n",
    "    print(match.group(0), \"is present at location\" , match.start())"
   ]
  },
  {
   "cell_type": "markdown",
   "metadata": {},
   "source": [
    "__Question 3__\n",
    "```\n",
    "Exercise - List all cars not made by Honda\n",
    "\n",
    "Write a pattern to match all non-Honda cars (case insensitive)\n",
    "\n",
    "Input:\n",
    "Honda Civic\n",
    "Honda Accord\n",
    "Honda Insight\n",
    "Hyundai Accent\n",
    "Toyota Corolla\n",
    "Toyota Camry\n",
    "Toyota Prius\n",
    "Tesla Model 3\n",
    "Tesla Model S\n",
    "Tesla Model X\n",
    "Expected Output:\n",
    "Hyundai Accent\n",
    "Toyota Corolla\n",
    "Toyota Camry\n",
    "Toyota Prius\n",
    "Tesla Model 3\n",
    "Tesla Model S\n",
    "Tesla Model X```"
   ]
  },
  {
   "cell_type": "code",
   "execution_count": 6,
   "metadata": {},
   "outputs": [
    {
     "name": "stdout",
     "output_type": "stream",
     "text": [
      "onda Civic is present at location 1\n",
      "onda Accord is present at location 13\n",
      "onda Insight is present at location 26\n",
      "Hyundai Accent is present at location 39\n",
      "Toyota Corolla is present at location 54\n",
      "Toyota Camry is present at location 69\n",
      "Toyota Prius is present at location 82\n",
      "Tesla Model 3 is present at location 95\n",
      "Tesla Model S is present at location 109\n",
      "Tesla Model X is present at location 123\n",
      "Expected Output: is present at location 137\n",
      "Hyundai Accent is present at location 154\n",
      "Toyota Corolla is present at location 169\n",
      "Toyota Camry is present at location 184\n",
      "Toyota Prius is present at location 197\n",
      "Tesla Model 3 is present at location 210\n",
      "Tesla Model S is present at location 224\n",
      "Tesla Model X is present at location 238\n"
     ]
    }
   ],
   "source": [
    "inputText = \"\"\"Honda Civic\n",
    "Honda Accord\n",
    "Honda Insight\n",
    "Hyundai Accent\n",
    "Toyota Corolla\n",
    "Toyota Camry\n",
    "Toyota Prius\n",
    "Tesla Model 3\n",
    "Tesla Model S\n",
    "Tesla Model X\n",
    "Expected Output:\n",
    "Hyundai Accent\n",
    "Toyota Corolla\n",
    "Toyota Camry\n",
    "Toyota Prius\n",
    "Tesla Model 3\n",
    "Tesla Model S\n",
    "Tesla Model X\"\"\"\n",
    "\n",
    "\n",
    "findPattern = r'(?im)(?!honda).+'\n",
    "matchs = re.finditer(findPattern, inputText)\n",
    "for match in matchs:\n",
    "    print(match.group(0), \"is present at location\" , match.start())"
   ]
  },
  {
   "cell_type": "markdown",
   "metadata": {},
   "source": [
    "**Question 4**  \n",
    "```\n",
    "Write a pattern to capture the values in a log entry using named groups. Each entry consists of the IP address of the requester, the HTTP method, resource, number of bytes, and request duration\n",
    "\n",
    "Use the following group names: ip, http, resource, bytes, duration\n",
    "\n",
    "Sample Input:\n",
    "192.168.0.20 GET /index.html 32504 1.030\n",
    "192.168.0.55 GET /index.html 32504 0.500\n",
    "Expected Output (first match shown below):\n",
    "ip:192.168.0.20\n",
    "http:GET\n",
    "resource:/index.html\n",
    "byteas:32504\n",
    "duration:1.030 \n",
    "```"
   ]
  },
  {
   "cell_type": "code",
   "execution_count": 7,
   "metadata": {},
   "outputs": [
    {
     "name": "stdout",
     "output_type": "stream",
     "text": [
      "ip : 192.168.0.20\n",
      "http: GET\n",
      "resource: /index.html\n",
      "bytes: 32504\n",
      "duration: 1.030\n",
      "ip : 192.168.0.55\n",
      "http: GET\n",
      "resource: /index.html\n",
      "bytes: 32504\n",
      "duration: 0.500\n"
     ]
    }
   ],
   "source": [
    "inputText= \"\"\"192.168.0.20 GET /index.html 32504 1.030\n",
    "192.168.0.55 GET /index.html 32504 0.500\"\"\"\n",
    "\n",
    "\n",
    "findPattern = r'(?m)(?P<ip>\\d{3}\\.\\d{3}\\.\\d{1,3}\\.\\d{1,3})\\s(?P<http>\\b\\w+)\\s(?P<resource>\\S+)\\s(?P<bytes>\\d+)\\s(?P<duration>\\d+\\.\\d+)'\n",
    "matchs = re.finditer(findPattern, inputText)\n",
    "for match in matchs:\n",
    "    print(\"ip :\",match.group('ip'))\n",
    "    print(\"http:\",match.group('http'))\n",
    "    print(\"resource:\",match.group('resource'))\n",
    "    print(\"bytes:\",match.group('bytes'))\n",
    "    print(\"duration:\",match.group('duration'))"
   ]
  },
  {
   "cell_type": "markdown",
   "metadata": {},
   "source": [
    "__Question 5__  \n",
    "```Write a pattern to match items whose price do not end with .99\n",
    "\n",
    "Sample Input:\n",
    "chair 4.98\n",
    "coffee 1.99\n",
    "fan 10.97\n",
    "car 11499.59\n",
    "banana 0.09\n",
    "\n",
    "Expected Output:\n",
    "chair 4.98\n",
    "fan 10.97\n",
    "car 11499.59\n",
    "banana 0.0```"
   ]
  },
  {
   "cell_type": "code",
   "execution_count": 8,
   "metadata": {},
   "outputs": [
    {
     "name": "stdout",
     "output_type": "stream",
     "text": [
      "chair 4.98 is present at location 0\n",
      "fan 10.97 is present at location 23\n",
      "car 11499.59 is present at location 33\n",
      "banana 0.09 is present at location 46\n"
     ]
    }
   ],
   "source": [
    "inputText = \"\"\"chair 4.98\n",
    "coffee 1.99\n",
    "fan 10.97\n",
    "car 11499.59\n",
    "banana 0.09\"\"\"\n",
    "\n",
    "\n",
    "findPattern = r'(?m).+(?<!\\.99)$'\n",
    "matches = re.finditer(findPattern, inputText)\n",
    "for match in matches:\n",
    "    print(match.group(0), \"is present at location\" , match.start())"
   ]
  },
  {
   "cell_type": "markdown",
   "metadata": {},
   "source": [
    "__Question 6__  \n",
    "\n",
    "```\n",
    "List all the cars that do not start with exl or xle\n",
    "\n",
    "Input:\n",
    "exl-accord\n",
    "ex-accord\n",
    "se-camry\n",
    "xle-camry\n",
    "exl-civic\n",
    "Expected Output:\n",
    "ex-accord\n",
    "se-camry \n",
    "```"
   ]
  },
  {
   "cell_type": "code",
   "execution_count": 9,
   "metadata": {},
   "outputs": [
    {
     "name": "stdout",
     "output_type": "stream",
     "text": [
      "ex-accord is present at location 11\n",
      "se-camry is present at location 21\n"
     ]
    }
   ],
   "source": [
    "inputText = \"\"\"exl-accord\n",
    "ex-accord\n",
    "se-camry\n",
    "xle-camry\n",
    "exl-civic\"\"\"\n",
    "\n",
    "\n",
    "findPattern = r'(?m)^(?!exl|xle).+$'\n",
    "matches = re.finditer(findPattern, inputText)\n",
    "for match in matches:\n",
    "    print(match.group(0), \"is present at location\" , match.start())"
   ]
  },
  {
   "cell_type": "markdown",
   "metadata": {},
   "source": [
    "__Question 6__  \n",
    "```\n",
    "Write a pattern that checks for a valid password. A password must contain\n",
    "\n",
    "a. An uppercase letter A-Z\n",
    "\n",
    "b. A lowercase letter a-z\n",
    "\n",
    "c. A digit 0-9\n",
    "\n",
    "d. A special character [!?^$]\n",
    "\n",
    "Hint: You can use multiple lookahead groups in a pattern – each checking for one condition. There is no minimum or maximum password length restriction for this example.\n",
    "\n",
    "Sample Input:\n",
    "Av!1\n",
    "abcd\n",
    "Av&1\n",
    "!cA3R\n",
    "Expected Output:\n",
    "Av!1\n",
    "!cA3R\n",
    "```"
   ]
  },
  {
   "cell_type": "code",
   "execution_count": 10,
   "metadata": {},
   "outputs": [
    {
     "name": "stdout",
     "output_type": "stream",
     "text": [
      "Av!1 is present at location 0\n",
      "!cA3R is present at location 15\n"
     ]
    }
   ],
   "source": [
    "inputText='''Av!1\n",
    "abcd\n",
    "Av&1\n",
    "!cA3R\n",
    "'''\n",
    "\n",
    "findPattern = r'(?m)^(?=.*[A-Z])(?=.*[a-z])(?=.*[0-9])(?=.*[!?^$]).+$'\n",
    "matches = re.finditer(findPattern, inputText)\n",
    "for match in matches:\n",
    "    print(match.group(0), \"is present at location\" , match.start())"
   ]
  },
  {
   "cell_type": "markdown",
   "metadata": {},
   "source": [
    "__Project 1- Log Parser__\n",
    "```\n",
    "Write a pattern to capture the source and destination path from the header section.\n",
    "\n",
    "Use the Learn Regex Tool for writing the pattern and refer to the regex cheat sheet for any help.\n",
    "\n",
    "Once the pattern is ready, copy them to a text file\n",
    "\n",
    "The pattern should capture the type of directory and the directory path using the following named groups\n",
    "\n",
    "type should capture Source or Destn\n",
    "\n",
    "dir should capture the path\n",
    "\n",
    "For example:\n",
    "\n",
    "Input:\n",
    "Source : C:\\RegularExpressionsWithDotNet\\robocopytest\\source\\தமிழ்\\हिन्दी\\English\n",
    "Dest : C:\\RegularExpressionsWithDotNet\\robocopytest\\destn\\\n",
    "Output:\n",
    "Match 1\n",
    "type:Source\n",
    "dir:C:\\RegularExpressionsWithDotNet\\robocopytest\\source\\தமிழ்\\हिन्दी\\English\n",
    " \n",
    "Match 2\n",
    "type:Dest\n",
    "dir:C:\\RegularExpressionsWithDotNet\\robocopytest\\destn\\\n",
    "        ```"
   ]
  },
  {
   "cell_type": "code",
   "execution_count": 11,
   "metadata": {},
   "outputs": [
    {
     "name": "stdout",
     "output_type": "stream",
     "text": [
      "C:\\Users\\PankajBhatt\\Desktop\\Applied AI\\PatternMatching\\DataSet\\RobocopyLog\\rocopylog.txt\n",
      "C:\\Users\\PankajBhatt\\Desktop\\Applied AI\\PatternMatching\\DataSet\\RobocopyLog\\rocopylog_invalid_source.txt\n"
     ]
    }
   ],
   "source": [
    "#print(os.getcwd())\n",
    "#print(os.listdir())\n",
    "path = r'C:\\Users\\PankajBhatt\\Desktop\\Applied AI\\PatternMatching\\DataSet\\RobocopyLog'\n",
    "successful_log= r'rocopylog.txt'\n",
    "error_log = r'rocopylog_invalid_source.txt'\n",
    "#os.chdir(path)\n",
    "if os.path.isdir(path):\n",
    "    if os.path.exists(path+'\\\\'+successful_log):\n",
    "         successful_log = os.path.join(path,successful_log)\n",
    "    if os.path.exists(path+'\\\\'+error_log):\n",
    "         error_log = os.path.join(path,error_log)         \n",
    "print(successful_log)\n",
    "print(error_log)\n"
   ]
  },
  {
   "cell_type": "code",
   "execution_count": 12,
   "metadata": {},
   "outputs": [
    {
     "name": "stdout",
     "output_type": "stream",
     "text": [
      "<class 'str'>\n"
     ]
    }
   ],
   "source": [
    "with open(successful_log,'r',encoding='utf-8') as log:\n",
    "    #data = log.readlines() #return the list \n",
    "    data_successful = log.read() #if no n is specified read entire file\n",
    "    \n",
    "#print(type(data))\n",
    "print(type(data_successful))\n",
    "#data_successful\n"
   ]
  },
  {
   "cell_type": "code",
   "execution_count": 13,
   "metadata": {},
   "outputs": [
    {
     "name": "stdout",
     "output_type": "stream",
     "text": [
      "Source\n",
      "C:\\RegularExpressionsWithDotNet\\robocopytest\\source\\தமிழ்\\हिन्दी\\English\n",
      "Dest\n",
      "C:\\RegularExpressionsWithDotNet\\robocopytest\\destn\n"
     ]
    }
   ],
   "source": [
    "findPattern = re.compile(r'(?m)(?P<type>\\w+)\\s:\\s(?P<dir>[A-Z]:\\S+\\b)')\n",
    "#print(findPattern.findall(data_successful))\n",
    "\n",
    "\n",
    "\n",
    "matches = findPattern.finditer(data_successful)\n",
    "for match in matches:\n",
    "    print(match.group('type'))\n",
    "    print(match.group('dir'))"
   ]
  },
  {
   "cell_type": "markdown",
   "metadata": {},
   "source": [
    "__Step2__\n",
    "```\n",
    "\n",
    "Write a pattern to capture error message from the log file.\n",
    "\n",
    "The pattern should capture the time stamp and the error message in the following named groups\n",
    "\n",
    "ts should capture the time stamp\n",
    "\n",
    "error should capture the error message\n",
    "\n",
    "For example:\n",
    "\n",
    "Input:\n",
    "-------------------------------------------------------------------------------\n",
    "ROBOCOPY :: Robust File Copy for Windows\n",
    "-------------------------------------------------------------------------------\n",
    "Started : Saturday, May 28, 2016 7:24:30 PM\n",
    "Source : C:\\RegularExpressionsWithDotNet\\robocopytest\\source2\\\n",
    "Dest : C:\\RegularExpressionsWithDotNet\\robocopytest\\destn\\\n",
    "Files : *.*\n",
    " \n",
    "Options : *.* /BYTES /S /DCOPY:DA /COPY:DAT /NP /R:1000000 /W:30\n",
    "------------------------------------------------------------------------------\n",
    "2016/05/28 19:24:30 ERROR 2 (0x00000002) Accessing Source Directory C:\\RegularExpressionsWithDotNet\\robocopytest\\source2\\\n",
    "The system cannot find the file specified.\n",
    "Output:\n",
    "ts:2016/05/28 19:24:30\n",
    "error: 2 (0x00000002) Accessing Source Directory C:\\RegularExpressionsWithD\n",
    "```"
   ]
  },
  {
   "cell_type": "code",
   "execution_count": 14,
   "metadata": {},
   "outputs": [
    {
     "data": {
      "text/plain": [
       "'\\n-------------------------------------------------------------------------------\\n   ROBOCOPY     ::     Robust File Copy for Windows                              \\n-------------------------------------------------------------------------------\\n\\n  Started : Saturday, May 28, 2016 7:24:30 PM\\n   Source : C:\\\\RegularExpressionsWithDotNet\\\\robocopytest\\\\source2\\\\\\n     Dest : C:\\\\RegularExpressionsWithDotNet\\\\robocopytest\\\\destn\\\\\\n\\n    Files : *.*\\n\\t    \\n  Options : *.* /BYTES /S /DCOPY:DA /COPY:DAT /NP /R:1000000 /W:30 \\n\\n------------------------------------------------------------------------------\\n\\n2016/05/28 19:24:30 ERROR 2 (0x00000002) Accessing Source Directory C:\\\\RegularExpressionsWithDotNet\\\\robocopytest\\\\source2\\\\\\nThe system cannot find the file specified.\\n\\n'"
      ]
     },
     "execution_count": 14,
     "metadata": {},
     "output_type": "execute_result"
    }
   ],
   "source": [
    "with open(error_log,'r') as log:\n",
    "    data_error = log.read()\n",
    "    #data = log.readlines()\n",
    "data_error\n",
    "#data"
   ]
  },
  {
   "cell_type": "code",
   "execution_count": 35,
   "metadata": {},
   "outputs": [
    {
     "name": "stdout",
     "output_type": "stream",
     "text": [
      "2016/05/28 19:24:30 ERROR 2\n"
     ]
    }
   ],
   "source": [
    "findPattern = re.compile(r'(?m)(?P<ts>\\d{4}(/\\d{2}){2}\\s+(\\d{2}:){2}\\d+)\\s+ERROR\\s+(?P<error>)\\d+')\n",
    "#print(findPattern.findall(data_successful))\n",
    "\n",
    "\n",
    "matches = findPattern.finditer(data_error)\n",
    "for match in matches:\n",
    "    print(match.group(0))\n",
    "    #print(match.group('ts'))\n",
    "    #print(match.group('error'))"
   ]
  },
  {
   "cell_type": "code",
   "execution_count": null,
   "metadata": {
    "scrolled": true
   },
   "outputs": [],
   "source": []
  },
  {
   "cell_type": "code",
   "execution_count": null,
   "metadata": {},
   "outputs": [],
   "source": []
  }
 ],
 "metadata": {
  "kernelspec": {
   "display_name": "Python 3",
   "language": "python",
   "name": "python3"
  },
  "language_info": {
   "codemirror_mode": {
    "name": "ipython",
    "version": 3
   },
   "file_extension": ".py",
   "mimetype": "text/x-python",
   "name": "python",
   "nbconvert_exporter": "python",
   "pygments_lexer": "ipython3",
   "version": "3.7.6"
  }
 },
 "nbformat": 4,
 "nbformat_minor": 4
}
